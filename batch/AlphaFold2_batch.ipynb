{
  "nbformat": 4,
  "nbformat_minor": 0,
  "metadata": {
    "accelerator": "GPU",
    "colab": {
      "name": "AlphaFold2_batch.ipynb",
      "provenance": [],
      "include_colab_link": true
    },
    "kernelspec": {
      "name": "python3",
      "language": "python",
      "display_name": "Python 3 (ipykernel)"
    },
    "language_info": {
      "name": "python"
    }
  },
  "cells": [
    {
      "cell_type": "markdown",
      "metadata": {
        "id": "view-in-github",
        "colab_type": "text"
      },
      "source": [
        "<a href=\"https://colab.research.google.com/github/riavasdev/hello-world/blob/master/batch/AlphaFold2_batch.ipynb\" target=\"_parent\"><img src=\"https://colab.research.google.com/assets/colab-badge.svg\" alt=\"Open In Colab\"/></a>"
      ]
    },
    {
      "cell_type": "markdown",
      "metadata": {
        "id": "G4yBrceuFbf3"
      },
      "source": [
        "#ColabFold v1.5.5: AlphaFold2 w/ MMseqs2 BATCH\n",
        "\n",
        "<img src=\"https://raw.githubusercontent.com/sokrypton/ColabFold/main/.github/ColabFold_Marv_Logo_Small.png\" height=\"256\" align=\"right\" style=\"height:256px\">\n",
        "\n",
        "Easy to use AlphaFold2 protein structure [(Jumper et al. 2021)](https://www.nature.com/articles/s41586-021-03819-2) and complex [(Evans et al. 2021)](https://www.biorxiv.org/content/10.1101/2021.10.04.463034v1) prediction using multiple sequence alignments generated through MMseqs2. For details, refer to our manuscript:\n",
        "\n",
        "[Mirdita M, Schütze K, Moriwaki Y, Heo L, Ovchinnikov S, Steinegger M. ColabFold: Making protein folding accessible to all.\n",
        "*Nature Methods*, 2022](https://www.nature.com/articles/s41592-022-01488-1)\n",
        "\n",
        "**Usage**\n",
        "\n",
        "`input_dir` directory with only fasta files or MSAs stored in Google Drive. MSAs need to be A3M formatted and have an `.a3m` extention. For MSAs MMseqs2 will not be called.\n",
        "\n",
        "`result_dir` results will be written to the result directory in Google Drive\n",
        "\n",
        "Old versions: [v1.4](https://colab.research.google.com/github/sokrypton/ColabFold/blob/v1.4.0/batch/AlphaFold2_batch.ipynb), [v1.5.1](https://colab.research.google.com/github/sokrypton/ColabFold/blob/v1.5.1/batch/AlphaFold2_batch.ipynb), [v1.5.2](https://colab.research.google.com/github/sokrypton/ColabFold/blob/v1.5.2/batch/AlphaFold2_batch.ipynb), [v1.5.3-patch](https://colab.research.google.com/github/sokrypton/ColabFold/blob/56c72044c7d51a311ca99b953a71e552fdc042e1/batch/AlphaFold2_batch.ipynb)\n",
        "\n",
        "<strong>For more details, see <a href=\"#Instructions\">bottom</a> of the notebook and checkout the [ColabFold GitHub](https://github.com/sokrypton/ColabFold). </strong>\n",
        "\n",
        "-----------\n",
        "\n",
        "### News\n",
        "- <b><font color='green'>2023/07/31: The ColabFold MSA server is back to normal. It was using older DB (UniRef30 2202/PDB70 220313) from 27th ~8:30 AM CEST to 31st ~11:10 AM CEST.</font></b>\n",
        "- <b><font color='green'>2023/06/12: New databases! UniRef30 updated to 2023_02 and PDB to 230517. We now use PDB100 instead of PDB70 (see notes in the [main](https://colabfold.com) notebook).</font></b>\n",
        "- <b><font color='green'>2023/06/12: We introduced a new default pairing strategy: Previously, for multimer predictions with more than 2 chains, we only pair if all sequences taxonomically match (\"complete\" pairing). The new default \"greedy\" strategy pairs any taxonomically matching subsets.</font></b>"
      ]
    },
    {
      "cell_type": "code",
      "metadata": {
        "id": "AwvIWN3HDyUJ",
        "cellView": "form"
      },
      "source": [
        "#@title Mount google drive\n",
        "from google.colab import drive\n",
        "drive.mount('/content/drive')\n",
        "from sys import version_info\n",
        "python_version = f\"{version_info.major}.{version_info.minor}\""
      ],
      "execution_count": null,
      "outputs": []
    },
    {
      "cell_type": "code",
      "metadata": {
        "id": "kOblAo-xetgx",
        "cellView": "form"
      },
      "source": [
        "#@title Input protein sequence, then hit `Runtime` -> `Run all`\n",
        "\n",
        "input_dir = '/content/batch_1.fasta' #@param {type:\"string\"}\n",
        "result_dir = '/content/batch_1_result' #@param {type:\"string\"}\n",
        "\n",
        "# number of models to use\n",
        "#@markdown ---\n",
        "#@markdown ### Advanced settings\n",
        "msa_mode = \"MMseqs2 (UniRef+Environmental)\" #@param [\"MMseqs2 (UniRef+Environmental)\", \"MMseqs2 (UniRef only)\",\"single_sequence\",\"custom\"]\n",
        "num_models = 1 #@param [1,2,3,4,5] {type:\"raw\"}\n",
        "num_recycles = 1 #@param [1,3,6,12,24,48] {type:\"raw\"}\n",
        "stop_at_score = 100 #@param {type:\"string\"}\n",
        "#@markdown - early stop computing models once score > threshold (avg. plddt for \"structures\" and ptmscore for \"complexes\")\n",
        "use_custom_msa = False\n",
        "num_relax = 0 #@param [0, 1, 5] {type:\"raw\"}\n",
        "use_amber = num_relax > 0\n",
        "relax_max_iterations = 200 #@param [0,200,2000] {type:\"raw\"}\n",
        "use_templates = False #@param {type:\"boolean\"}\n",
        "do_not_overwrite_results = True #@param {type:\"boolean\"}\n",
        "zip_results = True #@param {type:\"boolean\"}\n"
      ],
      "execution_count": 6,
      "outputs": []
    },
    {
      "cell_type": "code",
      "metadata": {
        "id": "iccGdbe_Pmt9",
        "cellView": "form"
      },
      "source": [
        "#@title Install dependencies\n",
        "%%bash -s $use_amber $use_templates $python_version\n",
        "\n",
        "set -e\n",
        "\n",
        "USE_AMBER=$1\n",
        "USE_TEMPLATES=$2\n",
        "PYTHON_VERSION=$3\n",
        "\n",
        "if [ ! -f COLABFOLD_READY ]; then\n",
        "  # install dependencies\n",
        "  # We have to use \"--no-warn-conflicts\" because colab already has a lot preinstalled with requirements different to ours\n",
        "  pip install -q --no-warn-conflicts \"colabfold[alphafold-minus-jax] @ git+https://github.com/sokrypton/ColabFold\"\n",
        "  if [ -n \"${TPU_NAME}\" ]; then\n",
        "    pip install -q --no-warn-conflicts -U dm-haiku==0.0.10 jax==0.3.25\n",
        "  fi\n",
        "  ln -s /usr/local/lib/python3.*/dist-packages/colabfold colabfold\n",
        "  ln -s /usr/local/lib/python3.*/dist-packages/alphafold alphafold\n",
        "  touch COLABFOLD_READY\n",
        "fi\n",
        "\n",
        "# Download params (~1min)\n",
        "python -m colabfold.download\n",
        "\n",
        "# setup conda\n",
        "if [ ${USE_AMBER} == \"True\" ] || [ ${USE_TEMPLATES} == \"True\" ]; then\n",
        "  if [ ! -f CONDA_READY ]; then\n",
        "    wget -qnc https://repo.anaconda.com/miniconda/Miniconda3-latest-Linux-x86_64.sh\n",
        "    bash Miniconda3-latest-Linux-x86_64.sh -bfp /usr/local 2>&1 1>/dev/null\n",
        "    rm Miniconda3-latest-Linux-x86_64.sh\n",
        "    conda config --set auto_update_conda false\n",
        "    touch CONDA_READY\n",
        "  fi\n",
        "fi\n",
        "# setup template search\n",
        "if [ ${USE_TEMPLATES} == \"True\" ] && [ ! -f HH_READY ]; then\n",
        "  conda install -y -q -c conda-forge -c bioconda kalign2=2.04 hhsuite=3.3.0 python=\"${PYTHON_VERSION}\" 2>&1 1>/dev/null\n",
        "  touch HH_READY\n",
        "fi\n",
        "# setup openmm for amber refinement\n",
        "if [ ${USE_AMBER} == \"True\" ] && [ ! -f AMBER_READY ]; then\n",
        "  conda install -y -q -c conda-forge openmm=7.7.0 python=\"${PYTHON_VERSION}\" pdbfixer 2>&1 1>/dev/null\n",
        "  touch AMBER_READY\n",
        "fi"
      ],
      "execution_count": 7,
      "outputs": []
    },
    {
      "cell_type": "code",
      "metadata": {
        "id": "hUYApPElB30u",
        "cellView": "form",
        "outputId": "3e6a2368-7ccb-401b-a751-f7e4c7c872d5",
        "colab": {
          "base_uri": "https://localhost:8080/"
        }
      },
      "source": [
        "#@title Run Prediction\n",
        "\n",
        "import sys\n",
        "\n",
        "from colabfold.batch import get_queries, run\n",
        "from colabfold.download import default_data_dir\n",
        "from colabfold.utils import setup_logging\n",
        "from pathlib import Path\n",
        "\n",
        "# For some reason we need that to get pdbfixer to import\n",
        "if use_amber and f\"/usr/local/lib/python{python_version}/site-packages/\" not in sys.path:\n",
        "    sys.path.insert(0, f\"/usr/local/lib/python{python_version}/site-packages/\")\n",
        "\n",
        "setup_logging(Path(result_dir).joinpath(\"log.txt\"))\n",
        "\n",
        "queries, is_complex = get_queries(input_dir)\n",
        "run(\n",
        "    queries=queries,\n",
        "    result_dir=result_dir,\n",
        "    use_templates=use_templates,\n",
        "    num_relax=num_relax,\n",
        "    relax_max_iterations=relax_max_iterations,\n",
        "    msa_mode=msa_mode,\n",
        "    model_type=\"auto\",\n",
        "    num_models=num_models,\n",
        "    num_recycles=num_recycles,\n",
        "    model_order=[1, 2, 3, 4, 5],\n",
        "    is_complex=is_complex,\n",
        "    data_dir=default_data_dir,\n",
        "    keep_existing_results=do_not_overwrite_results,\n",
        "    rank_by=\"auto\",\n",
        "    pair_mode=\"unpaired+paired\",\n",
        "    stop_at_score=stop_at_score,\n",
        "    zip_results=zip_results,\n",
        "    user_agent=\"colabfold/google-colab-batch\",\n",
        ")"
      ],
      "execution_count": null,
      "outputs": [
        {
          "output_type": "stream",
          "name": "stdout",
          "text": [
            "2024-12-04 16:23:19,896 Running on GPU\n",
            "2024-12-04 16:23:20,276 Found 5 citations for tools or databases\n",
            "2024-12-04 16:23:20,277 Query 1/1000: 1GA1 (length 3)\n"
          ]
        },
        {
          "output_type": "stream",
          "name": "stderr",
          "text": [
            "PENDING:   0%|          | 0/150 [elapsed: 00:00 remaining: ?]"
          ]
        },
        {
          "output_type": "stream",
          "name": "stdout",
          "text": [
            "2024-12-04 16:23:20,518 Sleeping for 5s. Reason: PENDING\n"
          ]
        },
        {
          "output_type": "stream",
          "name": "stderr",
          "text": [
            "COMPLETE: 100%|██████████| 150/150 [elapsed: 00:05 remaining: 00:00]\n"
          ]
        },
        {
          "output_type": "stream",
          "name": "stdout",
          "text": [
            "2024-12-04 16:23:37,516 Padding length to 13\n",
            "2024-12-04 16:23:54,443 alphafold2_ptm_model_1_seed_000 recycle=0 pLDDT=80.4 pTM=0.11\n",
            "2024-12-04 16:23:57,191 alphafold2_ptm_model_1_seed_000 recycle=1 pLDDT=42.6 pTM=0.000498 tol=32.5\n",
            "2024-12-04 16:23:57,193 alphafold2_ptm_model_1_seed_000 took 19.7s (1 recycles)\n",
            "2024-12-04 16:23:57,196 reranking models by 'plddt' metric\n",
            "2024-12-04 16:23:57,196 rank_001_alphafold2_ptm_model_1_seed_000 pLDDT=42.6 pTM=0.000498\n",
            "2024-12-04 16:23:57,838 Query 2/1000: 1GA4 (length 3)\n"
          ]
        },
        {
          "output_type": "stream",
          "name": "stderr",
          "text": [
            "PENDING:   0%|          | 0/150 [elapsed: 00:00 remaining: ?]"
          ]
        },
        {
          "output_type": "stream",
          "name": "stdout",
          "text": [
            "2024-12-04 16:23:58,073 Sleeping for 7s. Reason: PENDING\n"
          ]
        },
        {
          "output_type": "stream",
          "name": "stderr",
          "text": [
            "COMPLETE: 100%|██████████| 150/150 [elapsed: 00:07 remaining: 00:00]\n"
          ]
        },
        {
          "output_type": "stream",
          "name": "stdout",
          "text": [
            "2024-12-04 16:24:07,313 Padding length to 13\n",
            "2024-12-04 16:24:10,199 alphafold2_ptm_model_1_seed_000 recycle=0 pLDDT=71.4 pTM=0.115\n",
            "2024-12-04 16:24:12,949 alphafold2_ptm_model_1_seed_000 recycle=1 pLDDT=21.3 pTM=0.00142 tol=42.6\n",
            "2024-12-04 16:24:12,950 alphafold2_ptm_model_1_seed_000 took 5.6s (1 recycles)\n",
            "2024-12-04 16:24:12,953 reranking models by 'plddt' metric\n",
            "2024-12-04 16:24:12,954 rank_001_alphafold2_ptm_model_1_seed_000 pLDDT=21.3 pTM=0.00142\n",
            "2024-12-04 16:24:13,461 Query 3/1000: 1GA6 (length 3)\n"
          ]
        },
        {
          "output_type": "stream",
          "name": "stderr",
          "text": [
            "PENDING:   0%|          | 0/150 [elapsed: 00:00 remaining: ?]"
          ]
        },
        {
          "output_type": "stream",
          "name": "stdout",
          "text": [
            "2024-12-04 16:24:13,679 Sleeping for 7s. Reason: PENDING\n"
          ]
        },
        {
          "output_type": "stream",
          "name": "stderr",
          "text": [
            "COMPLETE: 100%|██████████| 150/150 [elapsed: 00:07 remaining: 00:00]\n"
          ]
        },
        {
          "output_type": "stream",
          "name": "stdout",
          "text": [
            "2024-12-04 16:24:23,175 Padding length to 13\n",
            "2024-12-04 16:24:26,062 alphafold2_ptm_model_1_seed_000 recycle=0 pLDDT=65.6 pTM=0.115\n",
            "2024-12-04 16:24:28,806 alphafold2_ptm_model_1_seed_000 recycle=1 pLDDT=20.4 pTM=0.00181 tol=24.2\n",
            "2024-12-04 16:24:28,807 alphafold2_ptm_model_1_seed_000 took 5.6s (1 recycles)\n",
            "2024-12-04 16:24:28,809 reranking models by 'plddt' metric\n",
            "2024-12-04 16:24:28,810 rank_001_alphafold2_ptm_model_1_seed_000 pLDDT=20.4 pTM=0.00181\n",
            "2024-12-04 16:24:29,302 Query 4/1000: 1KE2 (length 3)\n"
          ]
        },
        {
          "output_type": "stream",
          "name": "stderr",
          "text": [
            "PENDING:   0%|          | 0/150 [elapsed: 00:00 remaining: ?]"
          ]
        },
        {
          "output_type": "stream",
          "name": "stdout",
          "text": [
            "2024-12-04 16:24:29,532 Sleeping for 10s. Reason: PENDING\n"
          ]
        },
        {
          "output_type": "stream",
          "name": "stderr",
          "text": [
            "COMPLETE: 100%|██████████| 150/150 [elapsed: 00:10 remaining: 00:00]\n"
          ]
        },
        {
          "output_type": "stream",
          "name": "stdout",
          "text": [
            "2024-12-04 16:24:41,500 Padding length to 13\n",
            "2024-12-04 16:24:44,405 alphafold2_ptm_model_1_seed_000 recycle=0 pLDDT=72.8 pTM=0.112\n",
            "2024-12-04 16:24:47,153 alphafold2_ptm_model_1_seed_000 recycle=1 pLDDT=20 pTM=0.000915 tol=2.01\n",
            "2024-12-04 16:24:47,154 alphafold2_ptm_model_1_seed_000 took 5.7s (1 recycles)\n",
            "2024-12-04 16:24:47,156 reranking models by 'plddt' metric\n",
            "2024-12-04 16:24:47,157 rank_001_alphafold2_ptm_model_1_seed_000 pLDDT=20 pTM=0.000915\n",
            "2024-12-04 16:24:47,666 Query 5/1000: 1KUK (length 3)\n"
          ]
        },
        {
          "output_type": "stream",
          "name": "stderr",
          "text": [
            "COMPLETE: 100%|██████████| 150/150 [elapsed: 00:00 remaining: 00:00]\n"
          ]
        },
        {
          "output_type": "stream",
          "name": "stdout",
          "text": [
            "2024-12-04 16:24:49,695 Padding length to 13\n",
            "2024-12-04 16:24:52,591 alphafold2_ptm_model_1_seed_000 recycle=0 pLDDT=63 pTM=0.0827\n",
            "2024-12-04 16:24:55,336 alphafold2_ptm_model_1_seed_000 recycle=1 pLDDT=29.5 pTM=0.000671 tol=5\n",
            "2024-12-04 16:24:55,338 alphafold2_ptm_model_1_seed_000 took 5.6s (1 recycles)\n",
            "2024-12-04 16:24:55,340 reranking models by 'plddt' metric\n",
            "2024-12-04 16:24:55,340 rank_001_alphafold2_ptm_model_1_seed_000 pLDDT=29.5 pTM=0.000671\n",
            "2024-12-04 16:24:55,837 Query 6/1000: 1J71 (length 4)\n"
          ]
        },
        {
          "output_type": "stream",
          "name": "stderr",
          "text": [
            "PENDING:   0%|          | 0/150 [elapsed: 00:00 remaining: ?]"
          ]
        },
        {
          "output_type": "stream",
          "name": "stdout",
          "text": [
            "2024-12-04 16:24:56,064 Sleeping for 6s. Reason: PENDING\n"
          ]
        },
        {
          "output_type": "stream",
          "name": "stderr",
          "text": [
            "COMPLETE: 100%|██████████| 150/150 [elapsed: 00:06 remaining: 00:00]\n"
          ]
        },
        {
          "output_type": "stream",
          "name": "stdout",
          "text": [
            "2024-12-04 16:25:04,068 Padding length to 13\n",
            "2024-12-04 16:25:06,959 alphafold2_ptm_model_1_seed_000 recycle=0 pLDDT=80.8 pTM=0.0876\n",
            "2024-12-04 16:25:09,706 alphafold2_ptm_model_1_seed_000 recycle=1 pLDDT=29.1 pTM=0.00294 tol=1.22\n",
            "2024-12-04 16:25:09,707 alphafold2_ptm_model_1_seed_000 took 5.6s (1 recycles)\n",
            "2024-12-04 16:25:09,715 reranking models by 'plddt' metric\n",
            "2024-12-04 16:25:09,715 rank_001_alphafold2_ptm_model_1_seed_000 pLDDT=29.1 pTM=0.00294\n",
            "2024-12-04 16:25:10,424 Query 7/1000: 1KDV (length 4)\n"
          ]
        },
        {
          "output_type": "stream",
          "name": "stderr",
          "text": [
            "PENDING:   0%|          | 0/150 [elapsed: 00:00 remaining: ?]"
          ]
        },
        {
          "output_type": "stream",
          "name": "stdout",
          "text": [
            "2024-12-04 16:25:10,659 Sleeping for 7s. Reason: PENDING\n"
          ]
        },
        {
          "output_type": "stream",
          "name": "stderr",
          "text": [
            "COMPLETE: 100%|██████████| 150/150 [elapsed: 00:07 remaining: 00:00]\n"
          ]
        },
        {
          "output_type": "stream",
          "name": "stdout",
          "text": [
            "2024-12-04 16:25:19,703 Padding length to 13\n",
            "2024-12-04 16:25:22,606 alphafold2_ptm_model_1_seed_000 recycle=0 pLDDT=62.8 pTM=0.0926\n",
            "2024-12-04 16:25:25,358 alphafold2_ptm_model_1_seed_000 recycle=1 pLDDT=24.6 pTM=0.000983 tol=5.87\n",
            "2024-12-04 16:25:25,359 alphafold2_ptm_model_1_seed_000 took 5.7s (1 recycles)\n",
            "2024-12-04 16:25:25,361 reranking models by 'plddt' metric\n",
            "2024-12-04 16:25:25,361 rank_001_alphafold2_ptm_model_1_seed_000 pLDDT=24.6 pTM=0.000983\n",
            "2024-12-04 16:25:26,252 Query 8/1000: 1KDY (length 4)\n"
          ]
        },
        {
          "output_type": "stream",
          "name": "stderr",
          "text": [
            "PENDING:   0%|          | 0/150 [elapsed: 00:00 remaining: ?]"
          ]
        },
        {
          "output_type": "stream",
          "name": "stdout",
          "text": [
            "2024-12-04 16:25:26,486 Sleeping for 5s. Reason: PENDING\n"
          ]
        },
        {
          "output_type": "stream",
          "name": "stderr",
          "text": [
            "COMPLETE: 100%|██████████| 150/150 [elapsed: 00:05 remaining: 00:00]\n"
          ]
        },
        {
          "output_type": "stream",
          "name": "stdout",
          "text": [
            "2024-12-04 16:25:33,492 Padding length to 13\n",
            "2024-12-04 16:25:36,403 alphafold2_ptm_model_1_seed_000 recycle=0 pLDDT=68.1 pTM=0.0887\n",
            "2024-12-04 16:25:39,152 alphafold2_ptm_model_1_seed_000 recycle=1 pLDDT=22.4 pTM=0.000687 tol=12.7\n",
            "2024-12-04 16:25:39,153 alphafold2_ptm_model_1_seed_000 took 5.7s (1 recycles)\n",
            "2024-12-04 16:25:39,155 reranking models by 'plddt' metric\n",
            "2024-12-04 16:25:39,155 rank_001_alphafold2_ptm_model_1_seed_000 pLDDT=22.4 pTM=0.000687\n",
            "2024-12-04 16:25:39,657 Query 9/1000: 1M21 (length 4)\n"
          ]
        },
        {
          "output_type": "stream",
          "name": "stderr",
          "text": [
            "COMPLETE: 100%|██████████| 150/150 [elapsed: 00:00 remaining: 00:00]\n"
          ]
        },
        {
          "output_type": "stream",
          "name": "stdout",
          "text": [
            "2024-12-04 16:25:41,641 Padding length to 13\n",
            "2024-12-04 16:25:44,528 alphafold2_ptm_model_1_seed_000 recycle=0 pLDDT=79.9 pTM=0.0916\n",
            "2024-12-04 16:25:47,273 alphafold2_ptm_model_1_seed_000 recycle=1 pLDDT=24.9 pTM=0.00229 tol=3.7\n",
            "2024-12-04 16:25:47,274 alphafold2_ptm_model_1_seed_000 took 5.6s (1 recycles)\n",
            "2024-12-04 16:25:47,277 reranking models by 'plddt' metric\n",
            "2024-12-04 16:25:47,278 rank_001_alphafold2_ptm_model_1_seed_000 pLDDT=24.9 pTM=0.00229\n",
            "2024-12-04 16:25:48,014 Query 10/1000: 1G5Q (length 5)\n"
          ]
        },
        {
          "output_type": "stream",
          "name": "stderr",
          "text": [
            "PENDING:   0%|          | 0/150 [elapsed: 00:00 remaining: ?]"
          ]
        },
        {
          "output_type": "stream",
          "name": "stdout",
          "text": [
            "2024-12-04 16:25:48,241 Sleeping for 6s. Reason: PENDING\n"
          ]
        },
        {
          "output_type": "stream",
          "name": "stderr",
          "text": [
            "COMPLETE: 100%|██████████| 150/150 [elapsed: 00:06 remaining: 00:00]\n"
          ]
        },
        {
          "output_type": "stream",
          "name": "stdout",
          "text": [
            "2024-12-04 16:25:56,230 Padding length to 13\n",
            "2024-12-04 16:25:59,125 alphafold2_ptm_model_1_seed_000 recycle=0 pLDDT=81.6 pTM=0.0753\n",
            "2024-12-04 16:26:01,869 alphafold2_ptm_model_1_seed_000 recycle=1 pLDDT=64.6 pTM=0.0704 tol=1.78\n",
            "2024-12-04 16:26:01,870 alphafold2_ptm_model_1_seed_000 took 5.6s (1 recycles)\n",
            "2024-12-04 16:26:01,872 reranking models by 'plddt' metric\n",
            "2024-12-04 16:26:01,872 rank_001_alphafold2_ptm_model_1_seed_000 pLDDT=64.6 pTM=0.0704\n",
            "2024-12-04 16:26:02,375 Query 11/1000: 1JVQ (length 5)\n"
          ]
        },
        {
          "output_type": "stream",
          "name": "stderr",
          "text": [
            "PENDING:   0%|          | 0/150 [elapsed: 00:00 remaining: ?]"
          ]
        },
        {
          "output_type": "stream",
          "name": "stdout",
          "text": [
            "2024-12-04 16:26:02,595 Sleeping for 7s. Reason: PENDING\n"
          ]
        },
        {
          "output_type": "stream",
          "name": "stderr",
          "text": [
            "COMPLETE: 100%|██████████| 150/150 [elapsed: 00:07 remaining: 00:00]\n"
          ]
        },
        {
          "output_type": "stream",
          "name": "stdout",
          "text": [
            "2024-12-04 16:26:11,722 Padding length to 13\n",
            "2024-12-04 16:26:14,599 alphafold2_ptm_model_1_seed_000 recycle=0 pLDDT=71.9 pTM=0.0785\n",
            "2024-12-04 16:26:17,341 alphafold2_ptm_model_1_seed_000 recycle=1 pLDDT=53.3 pTM=0.0679 tol=7.22\n",
            "2024-12-04 16:26:17,342 alphafold2_ptm_model_1_seed_000 took 5.6s (1 recycles)\n",
            "2024-12-04 16:26:17,344 reranking models by 'plddt' metric\n",
            "2024-12-04 16:26:17,345 rank_001_alphafold2_ptm_model_1_seed_000 pLDDT=53.3 pTM=0.0679\n",
            "2024-12-04 16:26:17,849 Query 12/1000: 1MF4 (length 5)\n"
          ]
        },
        {
          "output_type": "stream",
          "name": "stderr",
          "text": [
            "PENDING:   0%|          | 0/150 [elapsed: 00:00 remaining: ?]"
          ]
        },
        {
          "output_type": "stream",
          "name": "stdout",
          "text": [
            "2024-12-04 16:26:18,068 Sleeping for 9s. Reason: PENDING\n"
          ]
        },
        {
          "output_type": "stream",
          "name": "stderr",
          "text": [
            "COMPLETE: 100%|██████████| 150/150 [elapsed: 00:09 remaining: 00:00]\n"
          ]
        },
        {
          "output_type": "stream",
          "name": "stdout",
          "text": [
            "2024-12-04 16:26:29,040 Padding length to 13\n",
            "2024-12-04 16:26:31,935 alphafold2_ptm_model_1_seed_000 recycle=0 pLDDT=75.3 pTM=0.0795\n",
            "2024-12-04 16:26:34,678 alphafold2_ptm_model_1_seed_000 recycle=1 pLDDT=64.8 pTM=0.0759 tol=1.63\n",
            "2024-12-04 16:26:34,679 alphafold2_ptm_model_1_seed_000 took 5.6s (1 recycles)\n",
            "2024-12-04 16:26:34,681 reranking models by 'plddt' metric\n",
            "2024-12-04 16:26:34,681 rank_001_alphafold2_ptm_model_1_seed_000 pLDDT=64.8 pTM=0.0759\n",
            "2024-12-04 16:26:35,182 Query 13/1000: 1M72 (length 6)\n"
          ]
        },
        {
          "output_type": "stream",
          "name": "stderr",
          "text": [
            "PENDING:   0%|          | 0/150 [elapsed: 00:00 remaining: ?]"
          ]
        },
        {
          "output_type": "stream",
          "name": "stdout",
          "text": [
            "2024-12-04 16:26:35,401 Sleeping for 6s. Reason: PENDING\n"
          ]
        },
        {
          "output_type": "stream",
          "name": "stderr",
          "text": [
            "COMPLETE: 100%|██████████| 150/150 [elapsed: 00:06 remaining: 00:00]\n"
          ]
        },
        {
          "output_type": "stream",
          "name": "stdout",
          "text": [
            "2024-12-04 16:26:43,561 Padding length to 13\n",
            "2024-12-04 16:26:46,475 alphafold2_ptm_model_1_seed_000 recycle=0 pLDDT=79.5 pTM=0.0658\n",
            "2024-12-04 16:26:49,217 alphafold2_ptm_model_1_seed_000 recycle=1 pLDDT=80.6 pTM=0.0648 tol=5.62\n",
            "2024-12-04 16:26:49,218 alphafold2_ptm_model_1_seed_000 took 5.7s (1 recycles)\n",
            "2024-12-04 16:26:49,222 reranking models by 'plddt' metric\n",
            "2024-12-04 16:26:49,223 rank_001_alphafold2_ptm_model_1_seed_000 pLDDT=80.6 pTM=0.0648\n",
            "2024-12-04 16:26:49,930 Query 14/1000: 1FKN (length 7)\n"
          ]
        },
        {
          "output_type": "stream",
          "name": "stderr",
          "text": [
            "PENDING:   0%|          | 0/150 [elapsed: 00:00 remaining: ?]"
          ]
        },
        {
          "output_type": "stream",
          "name": "stdout",
          "text": [
            "2024-12-04 16:26:50,156 Sleeping for 8s. Reason: PENDING\n"
          ]
        },
        {
          "output_type": "stream",
          "name": "stderr",
          "text": [
            "COMPLETE: 100%|██████████| 150/150 [elapsed: 00:08 remaining: 00:00]\n"
          ]
        },
        {
          "output_type": "stream",
          "name": "stdout",
          "text": [
            "2024-12-04 16:27:01,016 Padding length to 13\n",
            "2024-12-04 16:27:03,935 alphafold2_ptm_model_1_seed_000 recycle=0 pLDDT=75.6 pTM=0.058\n",
            "2024-12-04 16:27:06,677 alphafold2_ptm_model_1_seed_000 recycle=1 pLDDT=72.6 pTM=0.0572 tol=1.01\n",
            "2024-12-04 16:27:06,678 alphafold2_ptm_model_1_seed_000 took 5.7s (1 recycles)\n",
            "2024-12-04 16:27:06,681 reranking models by 'plddt' metric\n",
            "2024-12-04 16:27:06,681 rank_001_alphafold2_ptm_model_1_seed_000 pLDDT=72.6 pTM=0.0572\n",
            "2024-12-04 16:27:07,180 Query 15/1000: 1LK6 (length 7)\n"
          ]
        },
        {
          "output_type": "stream",
          "name": "stderr",
          "text": [
            "PENDING:   0%|          | 0/150 [elapsed: 00:00 remaining: ?]"
          ]
        },
        {
          "output_type": "stream",
          "name": "stdout",
          "text": [
            "2024-12-04 16:27:07,404 Sleeping for 5s. Reason: PENDING\n"
          ]
        },
        {
          "output_type": "stream",
          "name": "stderr",
          "text": [
            "COMPLETE: 100%|██████████| 150/150 [elapsed: 00:05 remaining: 00:00]\n"
          ]
        },
        {
          "output_type": "stream",
          "name": "stdout",
          "text": [
            "2024-12-04 16:27:15,119 Padding length to 13\n",
            "2024-12-04 16:27:18,009 alphafold2_ptm_model_1_seed_000 recycle=0 pLDDT=71.8 pTM=0.0602\n",
            "2024-12-04 16:27:20,751 alphafold2_ptm_model_1_seed_000 recycle=1 pLDDT=71.4 pTM=0.0618 tol=0.931\n",
            "2024-12-04 16:27:20,752 alphafold2_ptm_model_1_seed_000 took 5.6s (1 recycles)\n",
            "2024-12-04 16:27:20,754 reranking models by 'plddt' metric\n",
            "2024-12-04 16:27:20,754 rank_001_alphafold2_ptm_model_1_seed_000 pLDDT=71.4 pTM=0.0618\n",
            "2024-12-04 16:27:21,237 Query 16/1000: 1M4H (length 7)\n"
          ]
        },
        {
          "output_type": "stream",
          "name": "stderr",
          "text": [
            "PENDING:   0%|          | 0/150 [elapsed: 00:00 remaining: ?]"
          ]
        },
        {
          "output_type": "stream",
          "name": "stdout",
          "text": [
            "2024-12-04 16:27:21,467 Sleeping for 9s. Reason: PENDING\n"
          ]
        },
        {
          "output_type": "stream",
          "name": "stderr",
          "text": [
            "COMPLETE: 100%|██████████| 150/150 [elapsed: 00:09 remaining: 00:00]\n"
          ]
        },
        {
          "output_type": "stream",
          "name": "stdout",
          "text": [
            "2024-12-04 16:27:32,486 Padding length to 13\n",
            "2024-12-04 16:27:35,388 alphafold2_ptm_model_1_seed_000 recycle=0 pLDDT=76.9 pTM=0.0587\n",
            "2024-12-04 16:27:38,128 alphafold2_ptm_model_1_seed_000 recycle=1 pLDDT=74.8 pTM=0.0571 tol=1.24\n",
            "2024-12-04 16:27:38,130 alphafold2_ptm_model_1_seed_000 took 5.6s (1 recycles)\n",
            "2024-12-04 16:27:38,133 reranking models by 'plddt' metric\n",
            "2024-12-04 16:27:38,134 rank_001_alphafold2_ptm_model_1_seed_000 pLDDT=74.8 pTM=0.0571\n",
            "2024-12-04 16:27:38,882 Query 17/1000: 1G6R (length 8)\n"
          ]
        },
        {
          "output_type": "stream",
          "name": "stderr",
          "text": [
            "PENDING:   0%|          | 0/150 [elapsed: 00:00 remaining: ?]"
          ]
        },
        {
          "output_type": "stream",
          "name": "stdout",
          "text": [
            "2024-12-04 16:27:39,121 Sleeping for 5s. Reason: PENDING\n"
          ]
        },
        {
          "output_type": "stream",
          "name": "stderr",
          "text": [
            "COMPLETE: 100%|██████████| 150/150 [elapsed: 00:05 remaining: 00:00]\n"
          ]
        },
        {
          "output_type": "stream",
          "name": "stdout",
          "text": [
            "2024-12-04 16:27:46,104 Padding length to 13\n",
            "2024-12-04 16:27:48,994 alphafold2_ptm_model_1_seed_000 recycle=0 pLDDT=69.5 pTM=0.0509\n",
            "2024-12-04 16:27:51,739 alphafold2_ptm_model_1_seed_000 recycle=1 pLDDT=70.6 pTM=0.0507 tol=0.605\n",
            "2024-12-04 16:27:51,740 alphafold2_ptm_model_1_seed_000 took 5.6s (1 recycles)\n",
            "2024-12-04 16:27:51,744 reranking models by 'plddt' metric\n",
            "2024-12-04 16:27:51,745 rank_001_alphafold2_ptm_model_1_seed_000 pLDDT=70.6 pTM=0.0507\n",
            "2024-12-04 16:27:52,321 Query 18/1000: 1DUZ (length 9)\n"
          ]
        },
        {
          "output_type": "stream",
          "name": "stderr",
          "text": [
            "COMPLETE: 100%|██████████| 150/150 [elapsed: 00:00 remaining: 00:00]\n"
          ]
        },
        {
          "output_type": "stream",
          "name": "stdout",
          "text": [
            "2024-12-04 16:27:54,335 Padding length to 13\n",
            "2024-12-04 16:27:57,231 alphafold2_ptm_model_1_seed_000 recycle=0 pLDDT=62.9 pTM=0.0455\n",
            "2024-12-04 16:27:59,978 alphafold2_ptm_model_1_seed_000 recycle=1 pLDDT=61.4 pTM=0.0456 tol=1.97\n",
            "2024-12-04 16:27:59,979 alphafold2_ptm_model_1_seed_000 took 5.6s (1 recycles)\n",
            "2024-12-04 16:27:59,982 reranking models by 'plddt' metric\n",
            "2024-12-04 16:27:59,982 rank_001_alphafold2_ptm_model_1_seed_000 pLDDT=61.4 pTM=0.0456\n",
            "2024-12-04 16:28:00,492 Query 19/1000: 1EE4 (length 9)\n"
          ]
        },
        {
          "output_type": "stream",
          "name": "stderr",
          "text": [
            "PENDING:   0%|          | 0/150 [elapsed: 00:00 remaining: ?]"
          ]
        },
        {
          "output_type": "stream",
          "name": "stdout",
          "text": [
            "2024-12-04 16:28:00,709 Sleeping for 6s. Reason: PENDING\n"
          ]
        },
        {
          "output_type": "stream",
          "name": "stderr",
          "text": [
            "COMPLETE: 100%|██████████| 150/150 [elapsed: 00:06 remaining: 00:00]\n"
          ]
        },
        {
          "output_type": "stream",
          "name": "stdout",
          "text": [
            "2024-12-04 16:28:08,736 Padding length to 13\n",
            "2024-12-04 16:28:11,619 alphafold2_ptm_model_1_seed_000 recycle=0 pLDDT=70.5 pTM=0.0447\n",
            "2024-12-04 16:28:14,365 alphafold2_ptm_model_1_seed_000 recycle=1 pLDDT=73.9 pTM=0.0451 tol=0.683\n",
            "2024-12-04 16:28:14,367 alphafold2_ptm_model_1_seed_000 took 5.6s (1 recycles)\n",
            "2024-12-04 16:28:14,371 reranking models by 'plddt' metric\n",
            "2024-12-04 16:28:14,372 rank_001_alphafold2_ptm_model_1_seed_000 pLDDT=73.9 pTM=0.0451\n",
            "2024-12-04 16:28:15,137 Query 20/1000: 1EEZ (length 9)\n"
          ]
        },
        {
          "output_type": "stream",
          "name": "stderr",
          "text": [
            "PENDING:   0%|          | 0/150 [elapsed: 00:00 remaining: ?]"
          ]
        },
        {
          "output_type": "stream",
          "name": "stdout",
          "text": [
            "2024-12-04 16:28:15,360 Sleeping for 7s. Reason: PENDING\n"
          ]
        },
        {
          "output_type": "stream",
          "name": "stderr",
          "text": [
            "COMPLETE: 100%|██████████| 150/150 [elapsed: 00:07 remaining: 00:00]\n"
          ]
        },
        {
          "output_type": "stream",
          "name": "stdout",
          "text": [
            "2024-12-04 16:28:24,361 Padding length to 13\n",
            "2024-12-04 16:28:27,257 alphafold2_ptm_model_1_seed_000 recycle=0 pLDDT=69.9 pTM=0.0495\n",
            "2024-12-04 16:28:30,006 alphafold2_ptm_model_1_seed_000 recycle=1 pLDDT=69.1 pTM=0.0489 tol=0.449\n",
            "2024-12-04 16:28:30,008 alphafold2_ptm_model_1_seed_000 took 5.6s (1 recycles)\n",
            "2024-12-04 16:28:30,010 reranking models by 'plddt' metric\n",
            "2024-12-04 16:28:30,010 rank_001_alphafold2_ptm_model_1_seed_000 pLDDT=69.1 pTM=0.0489\n",
            "2024-12-04 16:28:30,508 Query 21/1000: 1EFX (length 9)\n"
          ]
        },
        {
          "output_type": "stream",
          "name": "stderr",
          "text": [
            "PENDING:   0%|          | 0/150 [elapsed: 00:00 remaining: ?]"
          ]
        },
        {
          "output_type": "stream",
          "name": "stdout",
          "text": [
            "2024-12-04 16:28:30,751 Sleeping for 8s. Reason: PENDING\n"
          ]
        },
        {
          "output_type": "stream",
          "name": "stderr",
          "text": [
            "COMPLETE: 100%|██████████| 150/150 [elapsed: 00:08 remaining: 00:00]\n"
          ]
        },
        {
          "output_type": "stream",
          "name": "stdout",
          "text": [
            "2024-12-04 16:28:41,835 Padding length to 13\n",
            "2024-12-04 16:28:44,716 alphafold2_ptm_model_1_seed_000 recycle=0 pLDDT=75.2 pTM=0.0514\n",
            "2024-12-04 16:28:47,462 alphafold2_ptm_model_1_seed_000 recycle=1 pLDDT=79.2 pTM=0.0536 tol=0.439\n",
            "2024-12-04 16:28:47,463 alphafold2_ptm_model_1_seed_000 took 5.6s (1 recycles)\n",
            "2024-12-04 16:28:47,466 reranking models by 'plddt' metric\n",
            "2024-12-04 16:28:47,466 rank_001_alphafold2_ptm_model_1_seed_000 pLDDT=79.2 pTM=0.0536\n",
            "2024-12-04 16:28:47,978 Query 22/1000: 1F90 (length 9)\n"
          ]
        },
        {
          "output_type": "stream",
          "name": "stderr",
          "text": [
            "COMPLETE: 100%|██████████| 150/150 [elapsed: 00:00 remaining: 00:00]\n"
          ]
        },
        {
          "output_type": "stream",
          "name": "stdout",
          "text": [
            "2024-12-04 16:28:50,031 Padding length to 13\n",
            "2024-12-04 16:28:52,927 alphafold2_ptm_model_1_seed_000 recycle=0 pLDDT=71.1 pTM=0.0493\n",
            "2024-12-04 16:28:55,675 alphafold2_ptm_model_1_seed_000 recycle=1 pLDDT=74.3 pTM=0.0492 tol=0.455\n",
            "2024-12-04 16:28:55,676 alphafold2_ptm_model_1_seed_000 took 5.6s (1 recycles)\n",
            "2024-12-04 16:28:55,679 reranking models by 'plddt' metric\n",
            "2024-12-04 16:28:55,679 rank_001_alphafold2_ptm_model_1_seed_000 pLDDT=74.3 pTM=0.0492\n",
            "2024-12-04 16:28:56,204 Query 23/1000: 1FG2 (length 9)\n"
          ]
        },
        {
          "output_type": "stream",
          "name": "stderr",
          "text": [
            "PENDING:   0%|          | 0/150 [elapsed: 00:00 remaining: ?]"
          ]
        },
        {
          "output_type": "stream",
          "name": "stdout",
          "text": [
            "2024-12-04 16:28:56,424 Sleeping for 9s. Reason: PENDING\n"
          ]
        },
        {
          "output_type": "stream",
          "name": "stderr",
          "text": [
            "COMPLETE: 100%|██████████| 150/150 [elapsed: 00:09 remaining: 00:00]\n"
          ]
        },
        {
          "output_type": "stream",
          "name": "stdout",
          "text": [
            "2024-12-04 16:29:07,464 Padding length to 13\n",
            "2024-12-04 16:29:10,380 alphafold2_ptm_model_1_seed_000 recycle=0 pLDDT=66.2 pTM=0.0458\n",
            "2024-12-04 16:29:13,127 alphafold2_ptm_model_1_seed_000 recycle=1 pLDDT=65.5 pTM=0.0455 tol=0.411\n",
            "2024-12-04 16:29:13,128 alphafold2_ptm_model_1_seed_000 took 5.7s (1 recycles)\n",
            "2024-12-04 16:29:13,130 reranking models by 'plddt' metric\n",
            "2024-12-04 16:29:13,131 rank_001_alphafold2_ptm_model_1_seed_000 pLDDT=65.5 pTM=0.0455\n",
            "2024-12-04 16:29:13,639 Query 24/1000: 1FZK (length 9)\n"
          ]
        },
        {
          "output_type": "stream",
          "name": "stderr",
          "text": [
            "SUBMIT:   0%|          | 0/150 [elapsed: 00:00 remaining: ?]"
          ]
        },
        {
          "output_type": "stream",
          "name": "stdout",
          "text": [
            "2024-12-04 16:29:13,852 Sleeping for 5s. Reason: RATELIMIT\n"
          ]
        },
        {
          "output_type": "stream",
          "name": "stderr",
          "text": [
            "SUBMIT:   0%|          | 0/150 [elapsed: 00:05 remaining: ?]"
          ]
        },
        {
          "output_type": "stream",
          "name": "stdout",
          "text": [
            "2024-12-04 16:29:19,065 Sleeping for 6s. Reason: RATELIMIT\n"
          ]
        },
        {
          "output_type": "stream",
          "name": "stderr",
          "text": [
            "SUBMIT:   0%|          | 0/150 [elapsed: 00:11 remaining: ?]"
          ]
        },
        {
          "output_type": "stream",
          "name": "stdout",
          "text": [
            "2024-12-04 16:29:25,287 Sleeping for 7s. Reason: RATELIMIT\n"
          ]
        },
        {
          "output_type": "stream",
          "name": "stderr",
          "text": [
            "SUBMIT:   0%|          | 0/150 [elapsed: 00:18 remaining: ?]"
          ]
        },
        {
          "output_type": "stream",
          "name": "stdout",
          "text": [
            "2024-12-04 16:29:32,505 Sleeping for 6s. Reason: RATELIMIT\n"
          ]
        },
        {
          "output_type": "stream",
          "name": "stderr",
          "text": [
            "SUBMIT:   0%|          | 0/150 [elapsed: 00:25 remaining: ?]"
          ]
        },
        {
          "output_type": "stream",
          "name": "stdout",
          "text": [
            "2024-12-04 16:29:38,718 Sleeping for 9s. Reason: RATELIMIT\n"
          ]
        },
        {
          "output_type": "stream",
          "name": "stderr",
          "text": [
            "SUBMIT:   0%|          | 0/150 [elapsed: 00:34 remaining: ?]"
          ]
        },
        {
          "output_type": "stream",
          "name": "stdout",
          "text": [
            "2024-12-04 16:29:47,947 Sleeping for 5s. Reason: RATELIMIT\n"
          ]
        },
        {
          "output_type": "stream",
          "name": "stderr",
          "text": [
            "SUBMIT:   0%|          | 0/150 [elapsed: 00:39 remaining: ?]"
          ]
        },
        {
          "output_type": "stream",
          "name": "stdout",
          "text": [
            "2024-12-04 16:29:53,165 Sleeping for 6s. Reason: RATELIMIT\n"
          ]
        },
        {
          "output_type": "stream",
          "name": "stderr",
          "text": [
            "SUBMIT:   0%|          | 0/150 [elapsed: 00:45 remaining: ?]"
          ]
        },
        {
          "output_type": "stream",
          "name": "stdout",
          "text": [
            "2024-12-04 16:29:59,391 Sleeping for 6s. Reason: RATELIMIT\n"
          ]
        },
        {
          "output_type": "stream",
          "name": "stderr",
          "text": [
            "COMPLETE: 100%|██████████| 150/150 [elapsed: 00:52 remaining: 00:00]\n"
          ]
        },
        {
          "output_type": "stream",
          "name": "stdout",
          "text": [
            "2024-12-04 16:30:07,404 Padding length to 13\n",
            "2024-12-04 16:30:10,310 alphafold2_ptm_model_1_seed_000 recycle=0 pLDDT=70.7 pTM=0.0472\n",
            "2024-12-04 16:30:13,057 alphafold2_ptm_model_1_seed_000 recycle=1 pLDDT=69.6 pTM=0.0468 tol=0.671\n",
            "2024-12-04 16:30:13,058 alphafold2_ptm_model_1_seed_000 took 5.7s (1 recycles)\n",
            "2024-12-04 16:30:13,061 reranking models by 'plddt' metric\n",
            "2024-12-04 16:30:13,062 rank_001_alphafold2_ptm_model_1_seed_000 pLDDT=69.6 pTM=0.0468\n",
            "2024-12-04 16:30:13,708 Query 25/1000: 1G37 (length 9)\n"
          ]
        },
        {
          "output_type": "stream",
          "name": "stderr",
          "text": [
            "SUBMIT:   0%|          | 0/150 [elapsed: 00:00 remaining: ?]"
          ]
        },
        {
          "output_type": "stream",
          "name": "stdout",
          "text": [
            "2024-12-04 16:30:13,931 Sleeping for 8s. Reason: RATELIMIT\n"
          ]
        },
        {
          "output_type": "stream",
          "name": "stderr",
          "text": [
            "SUBMIT:   0%|          | 0/150 [elapsed: 00:08 remaining: ?]"
          ]
        },
        {
          "output_type": "stream",
          "name": "stdout",
          "text": [
            "2024-12-04 16:30:22,144 Sleeping for 6s. Reason: RATELIMIT\n"
          ]
        },
        {
          "output_type": "stream",
          "name": "stderr",
          "text": [
            "SUBMIT:   0%|          | 0/150 [elapsed: 00:14 remaining: ?]"
          ]
        },
        {
          "output_type": "stream",
          "name": "stdout",
          "text": [
            "2024-12-04 16:30:28,361 Sleeping for 5s. Reason: RATELIMIT\n"
          ]
        },
        {
          "output_type": "stream",
          "name": "stderr",
          "text": [
            "SUBMIT:   0%|          | 0/150 [elapsed: 00:19 remaining: ?]"
          ]
        },
        {
          "output_type": "stream",
          "name": "stdout",
          "text": [
            "2024-12-04 16:30:33,580 Sleeping for 5s. Reason: RATELIMIT\n"
          ]
        },
        {
          "output_type": "stream",
          "name": "stderr",
          "text": [
            "SUBMIT:   0%|          | 0/150 [elapsed: 00:25 remaining: ?]"
          ]
        },
        {
          "output_type": "stream",
          "name": "stdout",
          "text": [
            "2024-12-04 16:30:38,800 Sleeping for 7s. Reason: RATELIMIT\n"
          ]
        },
        {
          "output_type": "stream",
          "name": "stderr",
          "text": [
            "SUBMIT:   0%|          | 0/150 [elapsed: 00:32 remaining: ?]"
          ]
        },
        {
          "output_type": "stream",
          "name": "stdout",
          "text": [
            "2024-12-04 16:30:46,021 Sleeping for 9s. Reason: RATELIMIT\n"
          ]
        },
        {
          "output_type": "stream",
          "name": "stderr",
          "text": [
            "SUBMIT:   0%|          | 0/150 [elapsed: 00:41 remaining: ?]"
          ]
        },
        {
          "output_type": "stream",
          "name": "stdout",
          "text": [
            "2024-12-04 16:30:55,253 Sleeping for 6s. Reason: RATELIMIT\n"
          ]
        },
        {
          "output_type": "stream",
          "name": "stderr",
          "text": [
            "SUBMIT:   0%|          | 0/150 [elapsed: 00:47 remaining: ?]"
          ]
        },
        {
          "output_type": "stream",
          "name": "stdout",
          "text": [
            "2024-12-04 16:31:01,471 Sleeping for 5s. Reason: RATELIMIT\n"
          ]
        },
        {
          "output_type": "stream",
          "name": "stderr",
          "text": [
            "SUBMIT:   0%|          | 0/150 [elapsed: 00:52 remaining: ?]"
          ]
        },
        {
          "output_type": "stream",
          "name": "stdout",
          "text": [
            "2024-12-04 16:31:06,697 Sleeping for 7s. Reason: RATELIMIT\n"
          ]
        },
        {
          "output_type": "stream",
          "name": "stderr",
          "text": [
            "SUBMIT:   0%|          | 0/150 [elapsed: 01:00 remaining: ?]"
          ]
        },
        {
          "output_type": "stream",
          "name": "stdout",
          "text": [
            "2024-12-04 16:31:13,916 Sleeping for 8s. Reason: RATELIMIT\n"
          ]
        },
        {
          "output_type": "stream",
          "name": "stderr",
          "text": [
            "SUBMIT:   0%|          | 0/150 [elapsed: 01:08 remaining: ?]"
          ]
        },
        {
          "output_type": "stream",
          "name": "stdout",
          "text": [
            "2024-12-04 16:31:22,134 Sleeping for 7s. Reason: RATELIMIT\n"
          ]
        },
        {
          "output_type": "stream",
          "name": "stderr",
          "text": [
            "SUBMIT:   0%|          | 0/150 [elapsed: 01:15 remaining: ?]"
          ]
        },
        {
          "output_type": "stream",
          "name": "stdout",
          "text": [
            "2024-12-04 16:31:29,357 Sleeping for 9s. Reason: RATELIMIT\n"
          ]
        },
        {
          "output_type": "stream",
          "name": "stderr",
          "text": [
            "SUBMIT:   0%|          | 0/150 [elapsed: 01:24 remaining: ?]"
          ]
        },
        {
          "output_type": "stream",
          "name": "stdout",
          "text": [
            "2024-12-04 16:31:38,590 Sleeping for 7s. Reason: RATELIMIT\n"
          ]
        },
        {
          "output_type": "stream",
          "name": "stderr",
          "text": [
            "PENDING:   0%|          | 0/150 [elapsed: 01:32 remaining: ?]"
          ]
        },
        {
          "output_type": "stream",
          "name": "stdout",
          "text": [
            "2024-12-04 16:31:45,820 Sleeping for 9s. Reason: PENDING\n"
          ]
        },
        {
          "output_type": "stream",
          "name": "stderr",
          "text": [
            "COMPLETE: 100%|██████████| 150/150 [elapsed: 01:41 remaining: 00:00]\n"
          ]
        },
        {
          "output_type": "stream",
          "name": "stdout",
          "text": [
            "2024-12-04 16:31:56,847 Padding length to 13\n",
            "2024-12-04 16:31:59,731 alphafold2_ptm_model_1_seed_000 recycle=0 pLDDT=77.8 pTM=0.0506\n",
            "2024-12-04 16:32:02,475 alphafold2_ptm_model_1_seed_000 recycle=1 pLDDT=80.6 pTM=0.0518 tol=0.202\n",
            "2024-12-04 16:32:02,476 alphafold2_ptm_model_1_seed_000 took 5.6s (1 recycles)\n",
            "2024-12-04 16:32:02,479 reranking models by 'plddt' metric\n",
            "2024-12-04 16:32:02,479 rank_001_alphafold2_ptm_model_1_seed_000 pLDDT=80.6 pTM=0.0518\n",
            "2024-12-04 16:32:02,978 Query 26/1000: 1I7U (length 9)\n"
          ]
        },
        {
          "output_type": "stream",
          "name": "stderr",
          "text": [
            "SUBMIT:   0%|          | 0/150 [elapsed: 00:00 remaining: ?]"
          ]
        },
        {
          "output_type": "stream",
          "name": "stdout",
          "text": [
            "2024-12-04 16:32:03,191 Sleeping for 9s. Reason: RATELIMIT\n"
          ]
        },
        {
          "output_type": "stream",
          "name": "stderr",
          "text": [
            "SUBMIT:   0%|          | 0/150 [elapsed: 00:09 remaining: ?]"
          ]
        },
        {
          "output_type": "stream",
          "name": "stdout",
          "text": [
            "2024-12-04 16:32:12,421 Sleeping for 6s. Reason: RATELIMIT\n"
          ]
        },
        {
          "output_type": "stream",
          "name": "stderr",
          "text": [
            "SUBMIT:   0%|          | 0/150 [elapsed: 00:15 remaining: ?]"
          ]
        },
        {
          "output_type": "stream",
          "name": "stdout",
          "text": [
            "2024-12-04 16:32:18,638 Sleeping for 6s. Reason: RATELIMIT\n"
          ]
        },
        {
          "output_type": "stream",
          "name": "stderr",
          "text": [
            "SUBMIT:   0%|          | 0/150 [elapsed: 00:21 remaining: ?]"
          ]
        },
        {
          "output_type": "stream",
          "name": "stdout",
          "text": [
            "2024-12-04 16:32:24,860 Sleeping for 8s. Reason: RATELIMIT\n"
          ]
        },
        {
          "output_type": "stream",
          "name": "stderr",
          "text": [
            "SUBMIT:   0%|          | 0/150 [elapsed: 00:30 remaining: ?]"
          ]
        },
        {
          "output_type": "stream",
          "name": "stdout",
          "text": [
            "2024-12-04 16:32:33,088 Sleeping for 8s. Reason: RATELIMIT\n"
          ]
        },
        {
          "output_type": "stream",
          "name": "stderr",
          "text": [
            "SUBMIT:   0%|          | 0/150 [elapsed: 00:38 remaining: ?]"
          ]
        },
        {
          "output_type": "stream",
          "name": "stdout",
          "text": [
            "2024-12-04 16:32:41,306 Sleeping for 9s. Reason: RATELIMIT\n"
          ]
        },
        {
          "output_type": "stream",
          "name": "stderr",
          "text": [
            "SUBMIT:   0%|          | 0/150 [elapsed: 00:47 remaining: ?]"
          ]
        },
        {
          "output_type": "stream",
          "name": "stdout",
          "text": [
            "2024-12-04 16:32:50,524 Sleeping for 10s. Reason: RATELIMIT\n"
          ]
        },
        {
          "output_type": "stream",
          "name": "stderr",
          "text": [
            "SUBMIT:   0%|          | 0/150 [elapsed: 00:57 remaining: ?]"
          ]
        },
        {
          "output_type": "stream",
          "name": "stdout",
          "text": [
            "2024-12-04 16:33:00,755 Sleeping for 6s. Reason: RATELIMIT\n"
          ]
        },
        {
          "output_type": "stream",
          "name": "stderr",
          "text": [
            "SUBMIT:   0%|          | 0/150 [elapsed: 01:03 remaining: ?]"
          ]
        },
        {
          "output_type": "stream",
          "name": "stdout",
          "text": [
            "2024-12-04 16:33:06,973 Sleeping for 7s. Reason: RATELIMIT\n"
          ]
        },
        {
          "output_type": "stream",
          "name": "stderr",
          "text": [
            "SUBMIT:   0%|          | 0/150 [elapsed: 01:11 remaining: ?]"
          ]
        },
        {
          "output_type": "stream",
          "name": "stdout",
          "text": [
            "2024-12-04 16:33:14,187 Sleeping for 6s. Reason: RATELIMIT\n"
          ]
        },
        {
          "output_type": "stream",
          "name": "stderr",
          "text": [
            "SUBMIT:   0%|          | 0/150 [elapsed: 01:17 remaining: ?]"
          ]
        },
        {
          "output_type": "stream",
          "name": "stdout",
          "text": [
            "2024-12-04 16:33:20,403 Sleeping for 6s. Reason: RATELIMIT\n"
          ]
        },
        {
          "output_type": "stream",
          "name": "stderr",
          "text": [
            "PENDING:   0%|          | 0/150 [elapsed: 01:23 remaining: ?]"
          ]
        },
        {
          "output_type": "stream",
          "name": "stdout",
          "text": [
            "2024-12-04 16:33:26,623 Sleeping for 8s. Reason: PENDING\n"
          ]
        },
        {
          "output_type": "stream",
          "name": "stderr",
          "text": [
            "COMPLETE: 100%|██████████| 150/150 [elapsed: 01:32 remaining: 00:00]\n"
          ]
        },
        {
          "output_type": "stream",
          "name": "stdout",
          "text": [
            "2024-12-04 16:33:36,662 Padding length to 13\n",
            "2024-12-04 16:33:39,574 alphafold2_ptm_model_1_seed_000 recycle=0 pLDDT=72 pTM=0.0479\n",
            "2024-12-04 16:33:42,315 alphafold2_ptm_model_1_seed_000 recycle=1 pLDDT=76.4 pTM=0.0484 tol=0.367\n",
            "2024-12-04 16:33:42,316 alphafold2_ptm_model_1_seed_000 took 5.7s (1 recycles)\n",
            "2024-12-04 16:33:42,319 reranking models by 'plddt' metric\n",
            "2024-12-04 16:33:42,319 rank_001_alphafold2_ptm_model_1_seed_000 pLDDT=76.4 pTM=0.0484\n",
            "2024-12-04 16:33:42,915 Query 27/1000: 1INQ (length 9)\n"
          ]
        },
        {
          "output_type": "stream",
          "name": "stderr",
          "text": [
            "SUBMIT:   0%|          | 0/150 [elapsed: 00:00 remaining: ?]"
          ]
        },
        {
          "output_type": "stream",
          "name": "stdout",
          "text": [
            "2024-12-04 16:33:43,134 Sleeping for 7s. Reason: RATELIMIT\n"
          ]
        },
        {
          "output_type": "stream",
          "name": "stderr",
          "text": [
            "SUBMIT:   0%|          | 0/150 [elapsed: 00:07 remaining: ?]"
          ]
        },
        {
          "output_type": "stream",
          "name": "stdout",
          "text": [
            "2024-12-04 16:33:50,355 Sleeping for 6s. Reason: RATELIMIT\n"
          ]
        },
        {
          "output_type": "stream",
          "name": "stderr",
          "text": [
            "SUBMIT:   0%|          | 0/150 [elapsed: 00:13 remaining: ?]"
          ]
        },
        {
          "output_type": "stream",
          "name": "stdout",
          "text": [
            "2024-12-04 16:33:56,570 Sleeping for 10s. Reason: RATELIMIT\n"
          ]
        },
        {
          "output_type": "stream",
          "name": "stderr",
          "text": [
            "SUBMIT:   0%|          | 0/150 [elapsed: 00:23 remaining: ?]"
          ]
        },
        {
          "output_type": "stream",
          "name": "stdout",
          "text": [
            "2024-12-04 16:34:06,801 Sleeping for 9s. Reason: RATELIMIT\n"
          ]
        },
        {
          "output_type": "stream",
          "name": "stderr",
          "text": [
            "SUBMIT:   0%|          | 0/150 [elapsed: 00:33 remaining: ?]"
          ]
        },
        {
          "output_type": "stream",
          "name": "stdout",
          "text": [
            "2024-12-04 16:34:16,025 Sleeping for 5s. Reason: RATELIMIT\n"
          ]
        },
        {
          "output_type": "stream",
          "name": "stderr",
          "text": [
            "SUBMIT:   0%|          | 0/150 [elapsed: 00:38 remaining: ?]"
          ]
        },
        {
          "output_type": "stream",
          "name": "stdout",
          "text": [
            "2024-12-04 16:34:21,242 Sleeping for 5s. Reason: RATELIMIT\n"
          ]
        },
        {
          "output_type": "stream",
          "name": "stderr",
          "text": [
            "SUBMIT:   0%|          | 0/150 [elapsed: 00:43 remaining: ?]"
          ]
        },
        {
          "output_type": "stream",
          "name": "stdout",
          "text": [
            "2024-12-04 16:34:26,454 Sleeping for 9s. Reason: RATELIMIT\n"
          ]
        },
        {
          "output_type": "stream",
          "name": "stderr",
          "text": [
            "SUBMIT:   0%|          | 0/150 [elapsed: 00:52 remaining: ?]"
          ]
        },
        {
          "output_type": "stream",
          "name": "stdout",
          "text": [
            "2024-12-04 16:34:35,676 Sleeping for 5s. Reason: RATELIMIT\n"
          ]
        },
        {
          "output_type": "stream",
          "name": "stderr",
          "text": [
            "SUBMIT:   0%|          | 0/150 [elapsed: 00:57 remaining: ?]"
          ]
        },
        {
          "output_type": "stream",
          "name": "stdout",
          "text": [
            "2024-12-04 16:34:40,901 Sleeping for 9s. Reason: RATELIMIT\n"
          ]
        },
        {
          "output_type": "stream",
          "name": "stderr",
          "text": [
            "SUBMIT:   0%|          | 0/150 [elapsed: 01:07 remaining: ?]"
          ]
        },
        {
          "output_type": "stream",
          "name": "stdout",
          "text": [
            "2024-12-04 16:34:50,119 Sleeping for 7s. Reason: RATELIMIT\n"
          ]
        },
        {
          "output_type": "stream",
          "name": "stderr",
          "text": [
            "SUBMIT:   0%|          | 0/150 [elapsed: 01:14 remaining: ?]"
          ]
        },
        {
          "output_type": "stream",
          "name": "stdout",
          "text": [
            "2024-12-04 16:34:57,331 Sleeping for 5s. Reason: RATELIMIT\n"
          ]
        },
        {
          "output_type": "stream",
          "name": "stderr",
          "text": [
            "PENDING:   0%|          | 0/150 [elapsed: 01:19 remaining: ?]"
          ]
        },
        {
          "output_type": "stream",
          "name": "stdout",
          "text": [
            "2024-12-04 16:35:02,562 Sleeping for 6s. Reason: PENDING\n"
          ]
        },
        {
          "output_type": "stream",
          "name": "stderr",
          "text": [
            "COMPLETE: 100%|██████████| 150/150 [elapsed: 01:26 remaining: 00:00]\n"
          ]
        },
        {
          "output_type": "stream",
          "name": "stdout",
          "text": [
            "2024-12-04 16:35:10,604 Padding length to 13\n",
            "2024-12-04 16:35:13,497 alphafold2_ptm_model_1_seed_000 recycle=0 pLDDT=76.4 pTM=0.0514\n",
            "2024-12-04 16:35:16,238 alphafold2_ptm_model_1_seed_000 recycle=1 pLDDT=75.1 pTM=0.0532 tol=0.354\n",
            "2024-12-04 16:35:16,239 alphafold2_ptm_model_1_seed_000 took 5.6s (1 recycles)\n",
            "2024-12-04 16:35:16,243 reranking models by 'plddt' metric\n",
            "2024-12-04 16:35:16,245 rank_001_alphafold2_ptm_model_1_seed_000 pLDDT=75.1 pTM=0.0532\n",
            "2024-12-04 16:35:17,010 Query 28/1000: 1JGE (length 9)\n"
          ]
        },
        {
          "output_type": "stream",
          "name": "stderr",
          "text": [
            "SUBMIT:   0%|          | 0/150 [elapsed: 00:00 remaining: ?]"
          ]
        },
        {
          "output_type": "stream",
          "name": "stdout",
          "text": [
            "2024-12-04 16:35:17,230 Sleeping for 7s. Reason: RATELIMIT\n"
          ]
        },
        {
          "output_type": "stream",
          "name": "stderr",
          "text": [
            "SUBMIT:   0%|          | 0/150 [elapsed: 00:07 remaining: ?]"
          ]
        },
        {
          "output_type": "stream",
          "name": "stdout",
          "text": [
            "2024-12-04 16:35:24,464 Sleeping for 6s. Reason: RATELIMIT\n"
          ]
        },
        {
          "output_type": "stream",
          "name": "stderr",
          "text": [
            "SUBMIT:   0%|          | 0/150 [elapsed: 00:13 remaining: ?]"
          ]
        },
        {
          "output_type": "stream",
          "name": "stdout",
          "text": [
            "2024-12-04 16:35:30,689 Sleeping for 8s. Reason: RATELIMIT\n"
          ]
        },
        {
          "output_type": "stream",
          "name": "stderr",
          "text": [
            "SUBMIT:   0%|          | 0/150 [elapsed: 00:21 remaining: ?]"
          ]
        },
        {
          "output_type": "stream",
          "name": "stdout",
          "text": [
            "2024-12-04 16:35:38,910 Sleeping for 5s. Reason: RATELIMIT\n"
          ]
        },
        {
          "output_type": "stream",
          "name": "stderr",
          "text": [
            "SUBMIT:   0%|          | 0/150 [elapsed: 00:27 remaining: ?]"
          ]
        },
        {
          "output_type": "stream",
          "name": "stdout",
          "text": [
            "2024-12-04 16:35:44,127 Sleeping for 6s. Reason: RATELIMIT\n"
          ]
        },
        {
          "output_type": "stream",
          "name": "stderr",
          "text": [
            "SUBMIT:   0%|          | 0/150 [elapsed: 00:33 remaining: ?]"
          ]
        },
        {
          "output_type": "stream",
          "name": "stdout",
          "text": [
            "2024-12-04 16:35:50,343 Sleeping for 5s. Reason: RATELIMIT\n"
          ]
        },
        {
          "output_type": "stream",
          "name": "stderr",
          "text": [
            "SUBMIT:   0%|          | 0/150 [elapsed: 00:38 remaining: ?]"
          ]
        },
        {
          "output_type": "stream",
          "name": "stdout",
          "text": [
            "2024-12-04 16:35:55,571 Sleeping for 9s. Reason: RATELIMIT\n"
          ]
        },
        {
          "output_type": "stream",
          "name": "stderr",
          "text": [
            "SUBMIT:   0%|          | 0/150 [elapsed: 00:47 remaining: ?]"
          ]
        },
        {
          "output_type": "stream",
          "name": "stdout",
          "text": [
            "2024-12-04 16:36:04,787 Sleeping for 9s. Reason: RATELIMIT\n"
          ]
        },
        {
          "output_type": "stream",
          "name": "stderr",
          "text": [
            "SUBMIT:   0%|          | 0/150 [elapsed: 00:57 remaining: ?]"
          ]
        },
        {
          "output_type": "stream",
          "name": "stdout",
          "text": [
            "2024-12-04 16:36:14,011 Sleeping for 8s. Reason: RATELIMIT\n"
          ]
        },
        {
          "output_type": "stream",
          "name": "stderr",
          "text": [
            "SUBMIT:   0%|          | 0/150 [elapsed: 01:05 remaining: ?]"
          ]
        },
        {
          "output_type": "stream",
          "name": "stdout",
          "text": [
            "2024-12-04 16:36:22,237 Sleeping for 6s. Reason: RATELIMIT\n"
          ]
        },
        {
          "output_type": "stream",
          "name": "stderr",
          "text": [
            "SUBMIT:   0%|          | 0/150 [elapsed: 01:11 remaining: ?]"
          ]
        },
        {
          "output_type": "stream",
          "name": "stdout",
          "text": [
            "2024-12-04 16:36:28,470 Sleeping for 10s. Reason: RATELIMIT\n"
          ]
        },
        {
          "output_type": "stream",
          "name": "stderr",
          "text": [
            "SUBMIT:   0%|          | 0/150 [elapsed: 01:21 remaining: ?]"
          ]
        },
        {
          "output_type": "stream",
          "name": "stdout",
          "text": [
            "2024-12-04 16:36:38,691 Sleeping for 6s. Reason: RATELIMIT\n"
          ]
        },
        {
          "output_type": "stream",
          "name": "stderr",
          "text": [
            "PENDING:   0%|          | 0/150 [elapsed: 01:27 remaining: ?]"
          ]
        },
        {
          "output_type": "stream",
          "name": "stdout",
          "text": [
            "2024-12-04 16:36:44,909 Sleeping for 6s. Reason: PENDING\n"
          ]
        },
        {
          "output_type": "stream",
          "name": "stderr",
          "text": [
            "COMPLETE: 100%|██████████| 150/150 [elapsed: 01:34 remaining: 00:00]\n"
          ]
        },
        {
          "output_type": "stream",
          "name": "stdout",
          "text": [
            "2024-12-04 16:36:52,890 Padding length to 13\n",
            "2024-12-04 16:36:55,802 alphafold2_ptm_model_1_seed_000 recycle=0 pLDDT=81.8 pTM=0.0561\n",
            "2024-12-04 16:36:58,545 alphafold2_ptm_model_1_seed_000 recycle=1 pLDDT=80.4 pTM=0.0555 tol=0.0721\n",
            "2024-12-04 16:36:58,546 alphafold2_ptm_model_1_seed_000 took 5.7s (1 recycles)\n",
            "2024-12-04 16:36:58,549 reranking models by 'plddt' metric\n",
            "2024-12-04 16:36:58,549 rank_001_alphafold2_ptm_model_1_seed_000 pLDDT=80.4 pTM=0.0555\n",
            "2024-12-04 16:36:59,053 Query 29/1000: 1JUF (length 9)\n"
          ]
        },
        {
          "output_type": "stream",
          "name": "stderr",
          "text": [
            "SUBMIT:   0%|          | 0/150 [elapsed: 00:00 remaining: ?]"
          ]
        },
        {
          "output_type": "stream",
          "name": "stdout",
          "text": [
            "2024-12-04 16:36:59,268 Sleeping for 8s. Reason: RATELIMIT\n"
          ]
        },
        {
          "output_type": "stream",
          "name": "stderr",
          "text": [
            "SUBMIT:   0%|          | 0/150 [elapsed: 00:08 remaining: ?]"
          ]
        },
        {
          "output_type": "stream",
          "name": "stdout",
          "text": [
            "2024-12-04 16:37:07,498 Sleeping for 7s. Reason: RATELIMIT\n"
          ]
        },
        {
          "output_type": "stream",
          "name": "stderr",
          "text": [
            "SUBMIT:   0%|          | 0/150 [elapsed: 00:15 remaining: ?]"
          ]
        },
        {
          "output_type": "stream",
          "name": "stdout",
          "text": [
            "2024-12-04 16:37:14,714 Sleeping for 9s. Reason: RATELIMIT\n"
          ]
        },
        {
          "output_type": "stream",
          "name": "stderr",
          "text": [
            "SUBMIT:   0%|          | 0/150 [elapsed: 00:24 remaining: ?]"
          ]
        },
        {
          "output_type": "stream",
          "name": "stdout",
          "text": [
            "2024-12-04 16:37:23,942 Sleeping for 5s. Reason: RATELIMIT\n"
          ]
        },
        {
          "output_type": "stream",
          "name": "stderr",
          "text": [
            "SUBMIT:   0%|          | 0/150 [elapsed: 00:30 remaining: ?]"
          ]
        },
        {
          "output_type": "stream",
          "name": "stdout",
          "text": [
            "2024-12-04 16:37:29,153 Sleeping for 6s. Reason: RATELIMIT\n"
          ]
        },
        {
          "output_type": "stream",
          "name": "stderr",
          "text": [
            "SUBMIT:   0%|          | 0/150 [elapsed: 00:36 remaining: ?]"
          ]
        },
        {
          "output_type": "stream",
          "name": "stdout",
          "text": [
            "2024-12-04 16:37:35,375 Sleeping for 7s. Reason: RATELIMIT\n"
          ]
        },
        {
          "output_type": "stream",
          "name": "stderr",
          "text": [
            "SUBMIT:   0%|          | 0/150 [elapsed: 00:43 remaining: ?]"
          ]
        },
        {
          "output_type": "stream",
          "name": "stdout",
          "text": [
            "2024-12-04 16:37:42,618 Sleeping for 7s. Reason: RATELIMIT\n"
          ]
        },
        {
          "output_type": "stream",
          "name": "stderr",
          "text": [
            "SUBMIT:   0%|          | 0/150 [elapsed: 00:50 remaining: ?]"
          ]
        },
        {
          "output_type": "stream",
          "name": "stdout",
          "text": [
            "2024-12-04 16:37:49,834 Sleeping for 5s. Reason: RATELIMIT\n"
          ]
        },
        {
          "output_type": "stream",
          "name": "stderr",
          "text": [
            "SUBMIT:   0%|          | 0/150 [elapsed: 00:55 remaining: ?]"
          ]
        },
        {
          "output_type": "stream",
          "name": "stdout",
          "text": [
            "2024-12-04 16:37:55,053 Sleeping for 6s. Reason: RATELIMIT\n"
          ]
        },
        {
          "output_type": "stream",
          "name": "stderr",
          "text": [
            "SUBMIT:   0%|          | 0/150 [elapsed: 01:02 remaining: ?]"
          ]
        },
        {
          "output_type": "stream",
          "name": "stdout",
          "text": [
            "2024-12-04 16:38:01,267 Sleeping for 8s. Reason: RATELIMIT\n"
          ]
        },
        {
          "output_type": "stream",
          "name": "stderr",
          "text": [
            "SUBMIT:   0%|          | 0/150 [elapsed: 01:10 remaining: ?]"
          ]
        },
        {
          "output_type": "stream",
          "name": "stdout",
          "text": [
            "2024-12-04 16:38:09,493 Sleeping for 10s. Reason: RATELIMIT\n"
          ]
        },
        {
          "output_type": "stream",
          "name": "stderr",
          "text": [
            "SUBMIT:   0%|          | 0/150 [elapsed: 01:20 remaining: ?]"
          ]
        },
        {
          "output_type": "stream",
          "name": "stdout",
          "text": [
            "2024-12-04 16:38:19,722 Sleeping for 8s. Reason: RATELIMIT\n"
          ]
        },
        {
          "output_type": "stream",
          "name": "stderr",
          "text": [
            "PENDING:   0%|          | 0/150 [elapsed: 01:28 remaining: ?]"
          ]
        },
        {
          "output_type": "stream",
          "name": "stdout",
          "text": [
            "2024-12-04 16:38:27,946 Sleeping for 9s. Reason: PENDING\n"
          ]
        },
        {
          "output_type": "stream",
          "name": "stderr",
          "text": [
            "COMPLETE: 100%|██████████| 150/150 [elapsed: 01:38 remaining: 00:00]\n"
          ]
        },
        {
          "output_type": "stream",
          "name": "stdout",
          "text": [
            "2024-12-04 16:38:39,562 Padding length to 13\n",
            "2024-12-04 16:38:42,445 alphafold2_ptm_model_1_seed_000 recycle=0 pLDDT=76 pTM=0.0503\n",
            "2024-12-04 16:38:45,187 alphafold2_ptm_model_1_seed_000 recycle=1 pLDDT=75.1 pTM=0.0515 tol=0.402\n",
            "2024-12-04 16:38:45,188 alphafold2_ptm_model_1_seed_000 took 5.6s (1 recycles)\n",
            "2024-12-04 16:38:45,192 reranking models by 'plddt' metric\n",
            "2024-12-04 16:38:45,192 rank_001_alphafold2_ptm_model_1_seed_000 pLDDT=75.1 pTM=0.0515\n",
            "2024-12-04 16:38:45,943 Query 30/1000: 1LB6 (length 9)\n"
          ]
        },
        {
          "output_type": "stream",
          "name": "stderr",
          "text": [
            "SUBMIT:   0%|          | 0/150 [elapsed: 00:00 remaining: ?]"
          ]
        },
        {
          "output_type": "stream",
          "name": "stdout",
          "text": [
            "2024-12-04 16:38:46,156 Sleeping for 10s. Reason: RATELIMIT\n"
          ]
        },
        {
          "output_type": "stream",
          "name": "stderr",
          "text": [
            "SUBMIT:   0%|          | 0/150 [elapsed: 00:10 remaining: ?]"
          ]
        },
        {
          "output_type": "stream",
          "name": "stdout",
          "text": [
            "2024-12-04 16:38:56,381 Sleeping for 8s. Reason: RATELIMIT\n"
          ]
        },
        {
          "output_type": "stream",
          "name": "stderr",
          "text": [
            "SUBMIT:   0%|          | 0/150 [elapsed: 00:18 remaining: ?]"
          ]
        },
        {
          "output_type": "stream",
          "name": "stdout",
          "text": [
            "2024-12-04 16:39:04,599 Sleeping for 7s. Reason: RATELIMIT\n"
          ]
        },
        {
          "output_type": "stream",
          "name": "stderr",
          "text": [
            "SUBMIT:   0%|          | 0/150 [elapsed: 00:25 remaining: ?]"
          ]
        },
        {
          "output_type": "stream",
          "name": "stdout",
          "text": [
            "2024-12-04 16:39:11,818 Sleeping for 10s. Reason: RATELIMIT\n"
          ]
        },
        {
          "output_type": "stream",
          "name": "stderr",
          "text": [
            "SUBMIT:   0%|          | 0/150 [elapsed: 00:36 remaining: ?]"
          ]
        },
        {
          "output_type": "stream",
          "name": "stdout",
          "text": [
            "2024-12-04 16:39:22,039 Sleeping for 8s. Reason: RATELIMIT\n"
          ]
        },
        {
          "output_type": "stream",
          "name": "stderr",
          "text": [
            "SUBMIT:   0%|          | 0/150 [elapsed: 00:44 remaining: ?]"
          ]
        },
        {
          "output_type": "stream",
          "name": "stdout",
          "text": [
            "2024-12-04 16:39:30,271 Sleeping for 6s. Reason: RATELIMIT\n"
          ]
        },
        {
          "output_type": "stream",
          "name": "stderr",
          "text": [
            "SUBMIT:   0%|          | 0/150 [elapsed: 00:50 remaining: ?]"
          ]
        },
        {
          "output_type": "stream",
          "name": "stdout",
          "text": [
            "2024-12-04 16:39:36,483 Sleeping for 6s. Reason: RATELIMIT\n"
          ]
        },
        {
          "output_type": "stream",
          "name": "stderr",
          "text": [
            "SUBMIT:   0%|          | 0/150 [elapsed: 00:56 remaining: ?]"
          ]
        },
        {
          "output_type": "stream",
          "name": "stdout",
          "text": [
            "2024-12-04 16:39:42,703 Sleeping for 8s. Reason: RATELIMIT\n"
          ]
        },
        {
          "output_type": "stream",
          "name": "stderr",
          "text": [
            "SUBMIT:   0%|          | 0/150 [elapsed: 01:04 remaining: ?]"
          ]
        },
        {
          "output_type": "stream",
          "name": "stdout",
          "text": [
            "2024-12-04 16:39:50,917 Sleeping for 7s. Reason: RATELIMIT\n"
          ]
        },
        {
          "output_type": "stream",
          "name": "stderr",
          "text": [
            "SUBMIT:   0%|          | 0/150 [elapsed: 01:12 remaining: ?]"
          ]
        },
        {
          "output_type": "stream",
          "name": "stdout",
          "text": [
            "2024-12-04 16:39:58,131 Sleeping for 10s. Reason: RATELIMIT\n"
          ]
        },
        {
          "output_type": "stream",
          "name": "stderr",
          "text": [
            "PENDING:   0%|          | 0/150 [elapsed: 01:22 remaining: ?]"
          ]
        },
        {
          "output_type": "stream",
          "name": "stdout",
          "text": [
            "2024-12-04 16:40:08,356 Sleeping for 6s. Reason: PENDING\n"
          ]
        },
        {
          "output_type": "stream",
          "name": "stderr",
          "text": [
            "COMPLETE: 100%|██████████| 150/150 [elapsed: 01:28 remaining: 00:00]\n"
          ]
        },
        {
          "output_type": "stream",
          "name": "stdout",
          "text": [
            "2024-12-04 16:40:16,389 Padding length to 13\n",
            "2024-12-04 16:40:19,287 alphafold2_ptm_model_1_seed_000 recycle=0 pLDDT=81.1 pTM=0.0468\n",
            "2024-12-04 16:40:22,027 alphafold2_ptm_model_1_seed_000 recycle=1 pLDDT=80.2 pTM=0.0482 tol=0.121\n",
            "2024-12-04 16:40:22,029 alphafold2_ptm_model_1_seed_000 took 5.6s (1 recycles)\n",
            "2024-12-04 16:40:22,031 reranking models by 'plddt' metric\n",
            "2024-12-04 16:40:22,032 rank_001_alphafold2_ptm_model_1_seed_000 pLDDT=80.2 pTM=0.0482\n",
            "2024-12-04 16:40:22,531 Query 31/1000: 1BJR (length 10)\n"
          ]
        },
        {
          "output_type": "stream",
          "name": "stderr",
          "text": [
            "SUBMIT:   0%|          | 0/150 [elapsed: 00:00 remaining: ?]"
          ]
        },
        {
          "output_type": "stream",
          "name": "stdout",
          "text": [
            "2024-12-04 16:40:22,754 Sleeping for 7s. Reason: RATELIMIT\n"
          ]
        },
        {
          "output_type": "stream",
          "name": "stderr",
          "text": [
            "SUBMIT:   0%|          | 0/150 [elapsed: 00:07 remaining: ?]"
          ]
        },
        {
          "output_type": "stream",
          "name": "stdout",
          "text": [
            "2024-12-04 16:40:29,970 Sleeping for 8s. Reason: RATELIMIT\n"
          ]
        },
        {
          "output_type": "stream",
          "name": "stderr",
          "text": [
            "SUBMIT:   0%|          | 0/150 [elapsed: 00:15 remaining: ?]"
          ]
        },
        {
          "output_type": "stream",
          "name": "stdout",
          "text": [
            "2024-12-04 16:40:38,193 Sleeping for 5s. Reason: RATELIMIT\n"
          ]
        },
        {
          "output_type": "stream",
          "name": "stderr",
          "text": [
            "SUBMIT:   0%|          | 0/150 [elapsed: 00:20 remaining: ?]"
          ]
        },
        {
          "output_type": "stream",
          "name": "stdout",
          "text": [
            "2024-12-04 16:40:43,411 Sleeping for 7s. Reason: RATELIMIT\n"
          ]
        },
        {
          "output_type": "stream",
          "name": "stderr",
          "text": [
            "SUBMIT:   0%|          | 0/150 [elapsed: 00:28 remaining: ?]"
          ]
        },
        {
          "output_type": "stream",
          "name": "stdout",
          "text": [
            "2024-12-04 16:40:50,642 Sleeping for 7s. Reason: RATELIMIT\n"
          ]
        },
        {
          "output_type": "stream",
          "name": "stderr",
          "text": [
            "SUBMIT:   0%|          | 0/150 [elapsed: 00:35 remaining: ?]"
          ]
        },
        {
          "output_type": "stream",
          "name": "stdout",
          "text": [
            "2024-12-04 16:40:57,865 Sleeping for 6s. Reason: RATELIMIT\n"
          ]
        },
        {
          "output_type": "stream",
          "name": "stderr",
          "text": [
            "SUBMIT:   0%|          | 0/150 [elapsed: 00:41 remaining: ?]"
          ]
        },
        {
          "output_type": "stream",
          "name": "stdout",
          "text": [
            "2024-12-04 16:41:04,094 Sleeping for 9s. Reason: RATELIMIT\n"
          ]
        },
        {
          "output_type": "stream",
          "name": "stderr",
          "text": [
            "SUBMIT:   0%|          | 0/150 [elapsed: 00:50 remaining: ?]"
          ]
        },
        {
          "output_type": "stream",
          "name": "stdout",
          "text": [
            "2024-12-04 16:41:13,314 Sleeping for 5s. Reason: RATELIMIT\n"
          ]
        },
        {
          "output_type": "stream",
          "name": "stderr",
          "text": [
            "SUBMIT:   0%|          | 0/150 [elapsed: 00:56 remaining: ?]"
          ]
        },
        {
          "output_type": "stream",
          "name": "stdout",
          "text": [
            "2024-12-04 16:41:18,532 Sleeping for 7s. Reason: RATELIMIT\n"
          ]
        },
        {
          "output_type": "stream",
          "name": "stderr",
          "text": [
            "SUBMIT:   0%|          | 0/150 [elapsed: 01:03 remaining: ?]"
          ]
        },
        {
          "output_type": "stream",
          "name": "stdout",
          "text": [
            "2024-12-04 16:41:25,759 Sleeping for 10s. Reason: RATELIMIT\n"
          ]
        },
        {
          "output_type": "stream",
          "name": "stderr",
          "text": [
            "SUBMIT:   0%|          | 0/150 [elapsed: 01:13 remaining: ?]"
          ]
        },
        {
          "output_type": "stream",
          "name": "stdout",
          "text": [
            "2024-12-04 16:41:35,987 Sleeping for 8s. Reason: RATELIMIT\n"
          ]
        },
        {
          "output_type": "stream",
          "name": "stderr",
          "text": [
            "COMPLETE: 100%|██████████| 150/150 [elapsed: 01:21 remaining: 00:00]\n"
          ]
        },
        {
          "output_type": "stream",
          "name": "stdout",
          "text": [
            "2024-12-04 16:41:45,975 Padding length to 13\n",
            "2024-12-04 16:41:48,866 alphafold2_ptm_model_1_seed_000 recycle=0 pLDDT=69.4 pTM=0.0428\n",
            "2024-12-04 16:41:51,608 alphafold2_ptm_model_1_seed_000 recycle=1 pLDDT=69.7 pTM=0.0429 tol=0.856\n",
            "2024-12-04 16:41:51,609 alphafold2_ptm_model_1_seed_000 took 5.6s (1 recycles)\n",
            "2024-12-04 16:41:51,613 reranking models by 'plddt' metric\n",
            "2024-12-04 16:41:51,614 rank_001_alphafold2_ptm_model_1_seed_000 pLDDT=69.7 pTM=0.0429\n",
            "2024-12-04 16:41:52,245 Query 32/1000: 1LVB (length 10)\n"
          ]
        },
        {
          "output_type": "stream",
          "name": "stderr",
          "text": [
            "SUBMIT:   0%|          | 0/150 [elapsed: 00:00 remaining: ?]"
          ]
        },
        {
          "output_type": "stream",
          "name": "stdout",
          "text": [
            "2024-12-04 16:41:52,466 Sleeping for 5s. Reason: RATELIMIT\n"
          ]
        },
        {
          "output_type": "stream",
          "name": "stderr",
          "text": [
            "SUBMIT:   0%|          | 0/150 [elapsed: 00:05 remaining: ?]"
          ]
        },
        {
          "output_type": "stream",
          "name": "stdout",
          "text": [
            "2024-12-04 16:41:57,691 Sleeping for 10s. Reason: RATELIMIT\n"
          ]
        },
        {
          "output_type": "stream",
          "name": "stderr",
          "text": [
            "SUBMIT:   0%|          | 0/150 [elapsed: 00:15 remaining: ?]"
          ]
        },
        {
          "output_type": "stream",
          "name": "stdout",
          "text": [
            "2024-12-04 16:42:07,911 Sleeping for 8s. Reason: RATELIMIT\n"
          ]
        },
        {
          "output_type": "stream",
          "name": "stderr",
          "text": [
            "SUBMIT:   0%|          | 0/150 [elapsed: 00:23 remaining: ?]"
          ]
        },
        {
          "output_type": "stream",
          "name": "stdout",
          "text": [
            "2024-12-04 16:42:16,134 Sleeping for 8s. Reason: RATELIMIT\n"
          ]
        },
        {
          "output_type": "stream",
          "name": "stderr",
          "text": [
            "SUBMIT:   0%|          | 0/150 [elapsed: 00:32 remaining: ?]"
          ]
        },
        {
          "output_type": "stream",
          "name": "stdout",
          "text": [
            "2024-12-04 16:42:24,364 Sleeping for 5s. Reason: RATELIMIT\n"
          ]
        },
        {
          "output_type": "stream",
          "name": "stderr",
          "text": [
            "SUBMIT:   0%|          | 0/150 [elapsed: 00:37 remaining: ?]"
          ]
        },
        {
          "output_type": "stream",
          "name": "stdout",
          "text": [
            "2024-12-04 16:42:29,584 Sleeping for 8s. Reason: RATELIMIT\n"
          ]
        },
        {
          "output_type": "stream",
          "name": "stderr",
          "text": [
            "SUBMIT:   0%|          | 0/150 [elapsed: 00:45 remaining: ?]"
          ]
        },
        {
          "output_type": "stream",
          "name": "stdout",
          "text": [
            "2024-12-04 16:42:37,949 Sleeping for 5s. Reason: RATELIMIT\n"
          ]
        },
        {
          "output_type": "stream",
          "name": "stderr",
          "text": [
            "SUBMIT:   0%|          | 0/150 [elapsed: 00:50 remaining: ?]"
          ]
        },
        {
          "output_type": "stream",
          "name": "stdout",
          "text": [
            "2024-12-04 16:42:43,164 Sleeping for 5s. Reason: RATELIMIT\n"
          ]
        },
        {
          "output_type": "stream",
          "name": "stderr",
          "text": [
            "SUBMIT:   0%|          | 0/150 [elapsed: 00:56 remaining: ?]"
          ]
        },
        {
          "output_type": "stream",
          "name": "stdout",
          "text": [
            "2024-12-04 16:42:48,390 Sleeping for 10s. Reason: RATELIMIT\n"
          ]
        },
        {
          "output_type": "stream",
          "name": "stderr",
          "text": [
            "SUBMIT:   0%|          | 0/150 [elapsed: 01:06 remaining: ?]"
          ]
        },
        {
          "output_type": "stream",
          "name": "stdout",
          "text": [
            "2024-12-04 16:42:58,608 Sleeping for 7s. Reason: RATELIMIT\n"
          ]
        },
        {
          "output_type": "stream",
          "name": "stderr",
          "text": [
            "SUBMIT:   0%|          | 0/150 [elapsed: 01:13 remaining: ?]"
          ]
        },
        {
          "output_type": "stream",
          "name": "stdout",
          "text": [
            "2024-12-04 16:43:05,826 Sleeping for 5s. Reason: RATELIMIT\n"
          ]
        },
        {
          "output_type": "stream",
          "name": "stderr",
          "text": [
            "SUBMIT:   0%|          | 0/150 [elapsed: 01:18 remaining: ?]"
          ]
        },
        {
          "output_type": "stream",
          "name": "stdout",
          "text": [
            "2024-12-04 16:43:11,038 Sleeping for 5s. Reason: RATELIMIT\n"
          ]
        },
        {
          "output_type": "stream",
          "name": "stderr",
          "text": [
            "SUBMIT:   0%|          | 0/150 [elapsed: 01:24 remaining: ?]"
          ]
        },
        {
          "output_type": "stream",
          "name": "stdout",
          "text": [
            "2024-12-04 16:43:16,252 Sleeping for 9s. Reason: RATELIMIT\n"
          ]
        },
        {
          "output_type": "stream",
          "name": "stderr",
          "text": [
            "PENDING:   0%|          | 0/150 [elapsed: 01:33 remaining: ?]"
          ]
        },
        {
          "output_type": "stream",
          "name": "stdout",
          "text": [
            "2024-12-04 16:43:25,483 Sleeping for 8s. Reason: PENDING\n"
          ]
        },
        {
          "output_type": "stream",
          "name": "stderr",
          "text": [
            "COMPLETE: 100%|██████████| 150/150 [elapsed: 01:41 remaining: 00:00]\n"
          ]
        },
        {
          "output_type": "stream",
          "name": "stdout",
          "text": [
            "2024-12-04 16:43:35,483 Padding length to 13\n",
            "2024-12-04 16:43:38,384 alphafold2_ptm_model_1_seed_000 recycle=0 pLDDT=69.9 pTM=0.041\n",
            "2024-12-04 16:43:41,127 alphafold2_ptm_model_1_seed_000 recycle=1 pLDDT=66.5 pTM=0.0403 tol=1.04\n",
            "2024-12-04 16:43:41,129 alphafold2_ptm_model_1_seed_000 took 5.6s (1 recycles)\n",
            "2024-12-04 16:43:41,131 reranking models by 'plddt' metric\n",
            "2024-12-04 16:43:41,132 rank_001_alphafold2_ptm_model_1_seed_000 pLDDT=66.5 pTM=0.0403\n",
            "2024-12-04 16:43:41,629 Query 33/1000: 1LVM (length 10)\n"
          ]
        },
        {
          "output_type": "stream",
          "name": "stderr",
          "text": [
            "SUBMIT:   0%|          | 0/150 [elapsed: 00:00 remaining: ?]"
          ]
        },
        {
          "output_type": "stream",
          "name": "stdout",
          "text": [
            "2024-12-04 16:43:41,840 Sleeping for 8s. Reason: RATELIMIT\n"
          ]
        },
        {
          "output_type": "stream",
          "name": "stderr",
          "text": [
            "SUBMIT:   0%|          | 0/150 [elapsed: 00:08 remaining: ?]"
          ]
        },
        {
          "output_type": "stream",
          "name": "stdout",
          "text": [
            "2024-12-04 16:43:50,060 Sleeping for 5s. Reason: RATELIMIT\n"
          ]
        },
        {
          "output_type": "stream",
          "name": "stderr",
          "text": [
            "SUBMIT:   0%|          | 0/150 [elapsed: 00:13 remaining: ?]"
          ]
        },
        {
          "output_type": "stream",
          "name": "stdout",
          "text": [
            "2024-12-04 16:43:55,282 Sleeping for 5s. Reason: RATELIMIT\n"
          ]
        },
        {
          "output_type": "stream",
          "name": "stderr",
          "text": [
            "SUBMIT:   0%|          | 0/150 [elapsed: 00:18 remaining: ?]"
          ]
        },
        {
          "output_type": "stream",
          "name": "stdout",
          "text": [
            "2024-12-04 16:44:00,510 Sleeping for 8s. Reason: RATELIMIT\n"
          ]
        },
        {
          "output_type": "stream",
          "name": "stderr",
          "text": [
            "SUBMIT:   0%|          | 0/150 [elapsed: 00:27 remaining: ?]"
          ]
        },
        {
          "output_type": "stream",
          "name": "stdout",
          "text": [
            "2024-12-04 16:44:08,725 Sleeping for 5s. Reason: RATELIMIT\n"
          ]
        },
        {
          "output_type": "stream",
          "name": "stderr",
          "text": [
            "SUBMIT:   0%|          | 0/150 [elapsed: 00:32 remaining: ?]"
          ]
        },
        {
          "output_type": "stream",
          "name": "stdout",
          "text": [
            "2024-12-04 16:44:13,941 Sleeping for 5s. Reason: RATELIMIT\n"
          ]
        },
        {
          "output_type": "stream",
          "name": "stderr",
          "text": [
            "SUBMIT:   0%|          | 0/150 [elapsed: 00:37 remaining: ?]"
          ]
        },
        {
          "output_type": "stream",
          "name": "stdout",
          "text": [
            "2024-12-04 16:44:19,167 Sleeping for 9s. Reason: RATELIMIT\n"
          ]
        },
        {
          "output_type": "stream",
          "name": "stderr",
          "text": [
            "SUBMIT:   0%|          | 0/150 [elapsed: 00:46 remaining: ?]"
          ]
        },
        {
          "output_type": "stream",
          "name": "stdout",
          "text": [
            "2024-12-04 16:44:28,551 Sleeping for 5s. Reason: RATELIMIT\n"
          ]
        },
        {
          "output_type": "stream",
          "name": "stderr",
          "text": [
            "SUBMIT:   0%|          | 0/150 [elapsed: 00:52 remaining: ?]"
          ]
        },
        {
          "output_type": "stream",
          "name": "stdout",
          "text": [
            "2024-12-04 16:44:33,762 Sleeping for 9s. Reason: RATELIMIT\n"
          ]
        },
        {
          "output_type": "stream",
          "name": "stderr",
          "text": [
            "SUBMIT:   0%|          | 0/150 [elapsed: 01:01 remaining: ?]"
          ]
        },
        {
          "output_type": "stream",
          "name": "stdout",
          "text": [
            "2024-12-04 16:44:42,992 Sleeping for 7s. Reason: RATELIMIT\n"
          ]
        },
        {
          "output_type": "stream",
          "name": "stderr",
          "text": [
            "SUBMIT:   0%|          | 0/150 [elapsed: 01:08 remaining: ?]"
          ]
        },
        {
          "output_type": "stream",
          "name": "stdout",
          "text": [
            "2024-12-04 16:44:50,215 Sleeping for 10s. Reason: RATELIMIT\n"
          ]
        },
        {
          "output_type": "stream",
          "name": "stderr",
          "text": [
            "SUBMIT:   0%|          | 0/150 [elapsed: 01:18 remaining: ?]"
          ]
        },
        {
          "output_type": "stream",
          "name": "stdout",
          "text": [
            "2024-12-04 16:45:00,450 Sleeping for 10s. Reason: RATELIMIT\n"
          ]
        },
        {
          "output_type": "stream",
          "name": "stderr",
          "text": [
            "PENDING:   0%|          | 0/150 [elapsed: 01:29 remaining: ?]"
          ]
        },
        {
          "output_type": "stream",
          "name": "stdout",
          "text": [
            "2024-12-04 16:45:10,698 Sleeping for 10s. Reason: PENDING\n"
          ]
        },
        {
          "output_type": "stream",
          "name": "stderr",
          "text": [
            "COMPLETE: 100%|██████████| 150/150 [elapsed: 01:39 remaining: 00:00]\n"
          ]
        },
        {
          "output_type": "stream",
          "name": "stdout",
          "text": [
            "2024-12-04 16:45:23,415 Padding length to 13\n",
            "2024-12-04 16:45:26,309 alphafold2_ptm_model_1_seed_000 recycle=0 pLDDT=64.4 pTM=0.0414\n",
            "2024-12-04 16:45:29,051 alphafold2_ptm_model_1_seed_000 recycle=1 pLDDT=64.6 pTM=0.0421 tol=1.55\n",
            "2024-12-04 16:45:29,052 alphafold2_ptm_model_1_seed_000 took 5.6s (1 recycles)\n",
            "2024-12-04 16:45:29,054 reranking models by 'plddt' metric\n",
            "2024-12-04 16:45:29,055 rank_001_alphafold2_ptm_model_1_seed_000 pLDDT=64.6 pTM=0.0421\n",
            "2024-12-04 16:45:29,544 Query 34/1000: 1DOJ (length 11)\n"
          ]
        },
        {
          "output_type": "stream",
          "name": "stderr",
          "text": [
            "SUBMIT:   0%|          | 0/150 [elapsed: 00:00 remaining: ?]"
          ]
        },
        {
          "output_type": "stream",
          "name": "stdout",
          "text": [
            "2024-12-04 16:45:29,766 Sleeping for 8s. Reason: RATELIMIT\n"
          ]
        },
        {
          "output_type": "stream",
          "name": "stderr",
          "text": [
            "SUBMIT:   0%|          | 0/150 [elapsed: 00:08 remaining: ?]"
          ]
        },
        {
          "output_type": "stream",
          "name": "stdout",
          "text": [
            "2024-12-04 16:45:38,001 Sleeping for 10s. Reason: RATELIMIT\n"
          ]
        },
        {
          "output_type": "stream",
          "name": "stderr",
          "text": [
            "SUBMIT:   0%|          | 0/150 [elapsed: 00:18 remaining: ?]"
          ]
        },
        {
          "output_type": "stream",
          "name": "stdout",
          "text": [
            "2024-12-04 16:45:48,228 Sleeping for 9s. Reason: RATELIMIT\n"
          ]
        },
        {
          "output_type": "stream",
          "name": "stderr",
          "text": [
            "SUBMIT:   0%|          | 0/150 [elapsed: 00:27 remaining: ?]"
          ]
        },
        {
          "output_type": "stream",
          "name": "stdout",
          "text": [
            "2024-12-04 16:45:57,445 Sleeping for 6s. Reason: RATELIMIT\n"
          ]
        },
        {
          "output_type": "stream",
          "name": "stderr",
          "text": [
            "SUBMIT:   0%|          | 0/150 [elapsed: 00:34 remaining: ?]"
          ]
        },
        {
          "output_type": "stream",
          "name": "stdout",
          "text": [
            "2024-12-04 16:46:03,651 Sleeping for 8s. Reason: RATELIMIT\n"
          ]
        },
        {
          "output_type": "stream",
          "name": "stderr",
          "text": [
            "SUBMIT:   0%|          | 0/150 [elapsed: 00:42 remaining: ?]"
          ]
        },
        {
          "output_type": "stream",
          "name": "stdout",
          "text": [
            "2024-12-04 16:46:11,869 Sleeping for 8s. Reason: RATELIMIT\n"
          ]
        },
        {
          "output_type": "stream",
          "name": "stderr",
          "text": [
            "SUBMIT:   0%|          | 0/150 [elapsed: 00:50 remaining: ?]"
          ]
        },
        {
          "output_type": "stream",
          "name": "stdout",
          "text": [
            "2024-12-04 16:46:20,084 Sleeping for 6s. Reason: RATELIMIT\n"
          ]
        },
        {
          "output_type": "stream",
          "name": "stderr",
          "text": [
            "SUBMIT:   0%|          | 0/150 [elapsed: 00:56 remaining: ?]"
          ]
        },
        {
          "output_type": "stream",
          "name": "stdout",
          "text": [
            "2024-12-04 16:46:26,298 Sleeping for 7s. Reason: RATELIMIT\n"
          ]
        },
        {
          "output_type": "stream",
          "name": "stderr",
          "text": [
            "SUBMIT:   0%|          | 0/150 [elapsed: 01:03 remaining: ?]"
          ]
        },
        {
          "output_type": "stream",
          "name": "stdout",
          "text": [
            "2024-12-04 16:46:33,517 Sleeping for 5s. Reason: RATELIMIT\n"
          ]
        },
        {
          "output_type": "stream",
          "name": "stderr",
          "text": [
            "SUBMIT:   0%|          | 0/150 [elapsed: 01:09 remaining: ?]"
          ]
        },
        {
          "output_type": "stream",
          "name": "stdout",
          "text": [
            "2024-12-04 16:46:38,721 Sleeping for 6s. Reason: RATELIMIT\n"
          ]
        },
        {
          "output_type": "stream",
          "name": "stderr",
          "text": [
            "PENDING:   0%|          | 0/150 [elapsed: 01:15 remaining: ?]"
          ]
        },
        {
          "output_type": "stream",
          "name": "stdout",
          "text": [
            "2024-12-04 16:46:44,945 Sleeping for 7s. Reason: PENDING\n"
          ]
        },
        {
          "output_type": "stream",
          "name": "stderr",
          "text": [
            "COMPLETE: 100%|██████████| 150/150 [elapsed: 01:22 remaining: 00:00]\n"
          ]
        },
        {
          "output_type": "stream",
          "name": "stdout",
          "text": [
            "2024-12-04 16:46:53,983 Padding length to 13\n",
            "2024-12-04 16:46:56,876 alphafold2_ptm_model_1_seed_000 recycle=0 pLDDT=79.1 pTM=0.0443\n",
            "2024-12-04 16:46:59,618 alphafold2_ptm_model_1_seed_000 recycle=1 pLDDT=82.8 pTM=0.0447 tol=0.285\n",
            "2024-12-04 16:46:59,619 alphafold2_ptm_model_1_seed_000 took 5.6s (1 recycles)\n",
            "2024-12-04 16:46:59,622 reranking models by 'plddt' metric\n",
            "2024-12-04 16:46:59,622 rank_001_alphafold2_ptm_model_1_seed_000 pLDDT=82.8 pTM=0.0447\n",
            "2024-12-04 16:47:00,122 Query 35/1000: 1KZZ (length 11)\n"
          ]
        },
        {
          "output_type": "stream",
          "name": "stderr",
          "text": [
            "SUBMIT:   0%|          | 0/150 [elapsed: 00:00 remaining: ?]"
          ]
        },
        {
          "output_type": "stream",
          "name": "stdout",
          "text": [
            "2024-12-04 16:47:00,332 Sleeping for 5s. Reason: RATELIMIT\n"
          ]
        },
        {
          "output_type": "stream",
          "name": "stderr",
          "text": [
            "SUBMIT:   0%|          | 0/150 [elapsed: 00:05 remaining: ?]"
          ]
        },
        {
          "output_type": "stream",
          "name": "stdout",
          "text": [
            "2024-12-04 16:47:05,548 Sleeping for 8s. Reason: RATELIMIT\n"
          ]
        },
        {
          "output_type": "stream",
          "name": "stderr",
          "text": [
            "SUBMIT:   0%|          | 0/150 [elapsed: 00:13 remaining: ?]"
          ]
        },
        {
          "output_type": "stream",
          "name": "stdout",
          "text": [
            "2024-12-04 16:47:13,765 Sleeping for 10s. Reason: RATELIMIT\n"
          ]
        },
        {
          "output_type": "stream",
          "name": "stderr",
          "text": [
            "SUBMIT:   0%|          | 0/150 [elapsed: 00:23 remaining: ?]"
          ]
        },
        {
          "output_type": "stream",
          "name": "stdout",
          "text": [
            "2024-12-04 16:47:23,996 Sleeping for 10s. Reason: RATELIMIT\n"
          ]
        },
        {
          "output_type": "stream",
          "name": "stderr",
          "text": [
            "SUBMIT:   0%|          | 0/150 [elapsed: 00:34 remaining: ?]"
          ]
        },
        {
          "output_type": "stream",
          "name": "stdout",
          "text": [
            "2024-12-04 16:47:34,218 Sleeping for 10s. Reason: RATELIMIT\n"
          ]
        },
        {
          "output_type": "stream",
          "name": "stderr",
          "text": [
            "SUBMIT:   0%|          | 0/150 [elapsed: 00:44 remaining: ?]"
          ]
        },
        {
          "output_type": "stream",
          "name": "stdout",
          "text": [
            "2024-12-04 16:47:44,438 Sleeping for 7s. Reason: RATELIMIT\n"
          ]
        },
        {
          "output_type": "stream",
          "name": "stderr",
          "text": [
            "SUBMIT:   0%|          | 0/150 [elapsed: 00:51 remaining: ?]"
          ]
        },
        {
          "output_type": "stream",
          "name": "stdout",
          "text": [
            "2024-12-04 16:47:51,653 Sleeping for 6s. Reason: RATELIMIT\n"
          ]
        },
        {
          "output_type": "stream",
          "name": "stderr",
          "text": [
            "SUBMIT:   0%|          | 0/150 [elapsed: 00:57 remaining: ?]"
          ]
        },
        {
          "output_type": "stream",
          "name": "stdout",
          "text": [
            "2024-12-04 16:47:57,873 Sleeping for 6s. Reason: RATELIMIT\n"
          ]
        },
        {
          "output_type": "stream",
          "name": "stderr",
          "text": [
            "SUBMIT:   0%|          | 0/150 [elapsed: 01:03 remaining: ?]"
          ]
        },
        {
          "output_type": "stream",
          "name": "stdout",
          "text": [
            "2024-12-04 16:48:04,093 Sleeping for 10s. Reason: RATELIMIT\n"
          ]
        },
        {
          "output_type": "stream",
          "name": "stderr",
          "text": [
            "SUBMIT:   0%|          | 0/150 [elapsed: 01:14 remaining: ?]"
          ]
        },
        {
          "output_type": "stream",
          "name": "stdout",
          "text": [
            "2024-12-04 16:48:14,324 Sleeping for 9s. Reason: RATELIMIT\n"
          ]
        },
        {
          "output_type": "stream",
          "name": "stderr",
          "text": [
            "PENDING:   0%|          | 0/150 [elapsed: 01:23 remaining: ?]"
          ]
        },
        {
          "output_type": "stream",
          "name": "stdout",
          "text": [
            "2024-12-04 16:48:23,555 Sleeping for 5s. Reason: PENDING\n"
          ]
        },
        {
          "output_type": "stream",
          "name": "stderr",
          "text": [
            "COMPLETE: 100%|██████████| 150/150 [elapsed: 01:28 remaining: 00:00]\n"
          ]
        },
        {
          "output_type": "stream",
          "name": "stdout",
          "text": [
            "2024-12-04 16:48:31,207 Padding length to 13\n",
            "2024-12-04 16:48:34,105 alphafold2_ptm_model_1_seed_000 recycle=0 pLDDT=69.4 pTM=0.0378\n",
            "2024-12-04 16:48:36,845 alphafold2_ptm_model_1_seed_000 recycle=1 pLDDT=70.6 pTM=0.0373 tol=0.382\n",
            "2024-12-04 16:48:36,846 alphafold2_ptm_model_1_seed_000 took 5.6s (1 recycles)\n",
            "2024-12-04 16:48:36,849 reranking models by 'plddt' metric\n",
            "2024-12-04 16:48:36,849 rank_001_alphafold2_ptm_model_1_seed_000 pLDDT=70.6 pTM=0.0373\n",
            "2024-12-04 16:48:37,349 Query 36/1000: 1I8I (length 12)\n"
          ]
        },
        {
          "output_type": "stream",
          "name": "stderr",
          "text": [
            "SUBMIT:   0%|          | 0/150 [elapsed: 00:00 remaining: ?]"
          ]
        },
        {
          "output_type": "stream",
          "name": "stdout",
          "text": [
            "2024-12-04 16:48:37,563 Sleeping for 9s. Reason: RATELIMIT\n"
          ]
        },
        {
          "output_type": "stream",
          "name": "stderr",
          "text": [
            "SUBMIT:   0%|          | 0/150 [elapsed: 00:09 remaining: ?]"
          ]
        },
        {
          "output_type": "stream",
          "name": "stdout",
          "text": [
            "2024-12-04 16:48:46,791 Sleeping for 10s. Reason: RATELIMIT\n"
          ]
        },
        {
          "output_type": "stream",
          "name": "stderr",
          "text": [
            "SUBMIT:   0%|          | 0/150 [elapsed: 00:19 remaining: ?]"
          ]
        },
        {
          "output_type": "stream",
          "name": "stdout",
          "text": [
            "2024-12-04 16:48:57,011 Sleeping for 10s. Reason: RATELIMIT\n"
          ]
        },
        {
          "output_type": "stream",
          "name": "stderr",
          "text": [
            "SUBMIT:   0%|          | 0/150 [elapsed: 00:29 remaining: ?]"
          ]
        },
        {
          "output_type": "stream",
          "name": "stdout",
          "text": [
            "2024-12-04 16:49:07,227 Sleeping for 7s. Reason: RATELIMIT\n"
          ]
        },
        {
          "output_type": "stream",
          "name": "stderr",
          "text": [
            "SUBMIT:   0%|          | 0/150 [elapsed: 00:37 remaining: ?]"
          ]
        },
        {
          "output_type": "stream",
          "name": "stdout",
          "text": [
            "2024-12-04 16:49:14,449 Sleeping for 9s. Reason: RATELIMIT\n"
          ]
        },
        {
          "output_type": "stream",
          "name": "stderr",
          "text": [
            "SUBMIT:   0%|          | 0/150 [elapsed: 00:46 remaining: ?]"
          ]
        },
        {
          "output_type": "stream",
          "name": "stdout",
          "text": [
            "2024-12-04 16:49:23,672 Sleeping for 6s. Reason: RATELIMIT\n"
          ]
        },
        {
          "output_type": "stream",
          "name": "stderr",
          "text": [
            "SUBMIT:   0%|          | 0/150 [elapsed: 00:52 remaining: ?]"
          ]
        },
        {
          "output_type": "stream",
          "name": "stdout",
          "text": [
            "2024-12-04 16:49:29,885 Sleeping for 9s. Reason: RATELIMIT\n"
          ]
        },
        {
          "output_type": "stream",
          "name": "stderr",
          "text": [
            "SUBMIT:   0%|          | 0/150 [elapsed: 01:01 remaining: ?]"
          ]
        },
        {
          "output_type": "stream",
          "name": "stdout",
          "text": [
            "2024-12-04 16:49:39,098 Sleeping for 8s. Reason: RATELIMIT\n"
          ]
        },
        {
          "output_type": "stream",
          "name": "stderr",
          "text": [
            "SUBMIT:   0%|          | 0/150 [elapsed: 01:09 remaining: ?]"
          ]
        },
        {
          "output_type": "stream",
          "name": "stdout",
          "text": [
            "2024-12-04 16:49:47,321 Sleeping for 8s. Reason: RATELIMIT\n"
          ]
        },
        {
          "output_type": "stream",
          "name": "stderr",
          "text": [
            "SUBMIT:   0%|          | 0/150 [elapsed: 01:18 remaining: ?]"
          ]
        },
        {
          "output_type": "stream",
          "name": "stdout",
          "text": [
            "2024-12-04 16:49:55,710 Sleeping for 10s. Reason: RATELIMIT\n"
          ]
        },
        {
          "output_type": "stream",
          "name": "stderr",
          "text": [
            "COMPLETE: 100%|██████████| 150/150 [elapsed: 01:28 remaining: 00:00]\n"
          ]
        },
        {
          "output_type": "stream",
          "name": "stdout",
          "text": [
            "2024-12-04 16:50:07,760 Padding length to 13\n",
            "2024-12-04 16:50:10,661 alphafold2_ptm_model_1_seed_000 recycle=0 pLDDT=73.1 pTM=0.0348\n",
            "2024-12-04 16:50:13,401 alphafold2_ptm_model_1_seed_000 recycle=1 pLDDT=73.9 pTM=0.0353 tol=0.104\n",
            "2024-12-04 16:50:13,402 alphafold2_ptm_model_1_seed_000 took 5.6s (1 recycles)\n",
            "2024-12-04 16:50:13,405 reranking models by 'plddt' metric\n",
            "2024-12-04 16:50:13,406 rank_001_alphafold2_ptm_model_1_seed_000 pLDDT=73.9 pTM=0.0353\n",
            "2024-12-04 16:50:13,992 Query 37/1000: 1JN5 (length 12)\n"
          ]
        },
        {
          "output_type": "stream",
          "name": "stderr",
          "text": [
            "SUBMIT:   0%|          | 0/150 [elapsed: 00:00 remaining: ?]"
          ]
        },
        {
          "output_type": "stream",
          "name": "stdout",
          "text": [
            "2024-12-04 16:50:14,207 Sleeping for 6s. Reason: RATELIMIT\n"
          ]
        },
        {
          "output_type": "stream",
          "name": "stderr",
          "text": [
            "SUBMIT:   0%|          | 0/150 [elapsed: 00:06 remaining: ?]"
          ]
        },
        {
          "output_type": "stream",
          "name": "stdout",
          "text": [
            "2024-12-04 16:50:20,417 Sleeping for 9s. Reason: RATELIMIT\n"
          ]
        },
        {
          "output_type": "stream",
          "name": "stderr",
          "text": [
            "SUBMIT:   0%|          | 0/150 [elapsed: 00:15 remaining: ?]"
          ]
        },
        {
          "output_type": "stream",
          "name": "stdout",
          "text": [
            "2024-12-04 16:50:29,647 Sleeping for 6s. Reason: RATELIMIT\n"
          ]
        },
        {
          "output_type": "stream",
          "name": "stderr",
          "text": [
            "SUBMIT:   0%|          | 0/150 [elapsed: 00:21 remaining: ?]"
          ]
        },
        {
          "output_type": "stream",
          "name": "stdout",
          "text": [
            "2024-12-04 16:50:35,863 Sleeping for 10s. Reason: RATELIMIT\n"
          ]
        },
        {
          "output_type": "stream",
          "name": "stderr",
          "text": [
            "SUBMIT:   0%|          | 0/150 [elapsed: 00:32 remaining: ?]"
          ]
        },
        {
          "output_type": "stream",
          "name": "stdout",
          "text": [
            "2024-12-04 16:50:46,086 Sleeping for 8s. Reason: RATELIMIT\n"
          ]
        },
        {
          "output_type": "stream",
          "name": "stderr",
          "text": [
            "SUBMIT:   0%|          | 0/150 [elapsed: 00:40 remaining: ?]"
          ]
        },
        {
          "output_type": "stream",
          "name": "stdout",
          "text": [
            "2024-12-04 16:50:54,309 Sleeping for 7s. Reason: RATELIMIT\n"
          ]
        },
        {
          "output_type": "stream",
          "name": "stderr",
          "text": [
            "SUBMIT:   0%|          | 0/150 [elapsed: 00:47 remaining: ?]"
          ]
        },
        {
          "output_type": "stream",
          "name": "stdout",
          "text": [
            "2024-12-04 16:51:01,528 Sleeping for 6s. Reason: RATELIMIT\n"
          ]
        },
        {
          "output_type": "stream",
          "name": "stderr",
          "text": [
            "SUBMIT:   0%|          | 0/150 [elapsed: 00:53 remaining: ?]"
          ]
        },
        {
          "output_type": "stream",
          "name": "stdout",
          "text": [
            "2024-12-04 16:51:07,765 Sleeping for 6s. Reason: RATELIMIT\n"
          ]
        },
        {
          "output_type": "stream",
          "name": "stderr",
          "text": [
            "SUBMIT:   0%|          | 0/150 [elapsed: 00:59 remaining: ?]"
          ]
        },
        {
          "output_type": "stream",
          "name": "stdout",
          "text": [
            "2024-12-04 16:51:13,989 Sleeping for 10s. Reason: RATELIMIT\n"
          ]
        },
        {
          "output_type": "stream",
          "name": "stderr",
          "text": [
            "SUBMIT:   0%|          | 0/150 [elapsed: 01:10 remaining: ?]"
          ]
        },
        {
          "output_type": "stream",
          "name": "stdout",
          "text": [
            "2024-12-04 16:51:24,210 Sleeping for 5s. Reason: RATELIMIT\n"
          ]
        },
        {
          "output_type": "stream",
          "name": "stderr",
          "text": [
            "SUBMIT:   0%|          | 0/150 [elapsed: 01:15 remaining: ?]"
          ]
        },
        {
          "output_type": "stream",
          "name": "stdout",
          "text": [
            "2024-12-04 16:51:29,430 Sleeping for 10s. Reason: RATELIMIT\n"
          ]
        },
        {
          "output_type": "stream",
          "name": "stderr",
          "text": [
            "SUBMIT:   0%|          | 0/150 [elapsed: 01:25 remaining: ?]"
          ]
        },
        {
          "output_type": "stream",
          "name": "stdout",
          "text": [
            "2024-12-04 16:51:39,642 Sleeping for 9s. Reason: RATELIMIT\n"
          ]
        },
        {
          "output_type": "stream",
          "name": "stderr",
          "text": [
            "PENDING:   0%|          | 0/150 [elapsed: 01:34 remaining: ?]"
          ]
        },
        {
          "output_type": "stream",
          "name": "stdout",
          "text": [
            "2024-12-04 16:51:48,872 Sleeping for 10s. Reason: PENDING\n"
          ]
        },
        {
          "output_type": "stream",
          "name": "stderr",
          "text": [
            "COMPLETE: 100%|██████████| 150/150 [elapsed: 01:45 remaining: 00:00]\n"
          ]
        },
        {
          "output_type": "stream",
          "name": "stdout",
          "text": [
            "2024-12-04 16:52:00,861 Padding length to 13\n",
            "2024-12-04 16:52:03,742 alphafold2_ptm_model_1_seed_000 recycle=0 pLDDT=64.6 pTM=0.0348\n",
            "2024-12-04 16:52:06,483 alphafold2_ptm_model_1_seed_000 recycle=1 pLDDT=63.7 pTM=0.0346 tol=1.12\n",
            "2024-12-04 16:52:06,484 alphafold2_ptm_model_1_seed_000 took 5.6s (1 recycles)\n",
            "2024-12-04 16:52:06,486 reranking models by 'plddt' metric\n",
            "2024-12-04 16:52:06,487 rank_001_alphafold2_ptm_model_1_seed_000 pLDDT=63.7 pTM=0.0346\n",
            "2024-12-04 16:52:06,987 Query 38/1000: 1JPL (length 12)\n"
          ]
        },
        {
          "output_type": "stream",
          "name": "stderr",
          "text": [
            "SUBMIT:   0%|          | 0/150 [elapsed: 00:00 remaining: ?]"
          ]
        },
        {
          "output_type": "stream",
          "name": "stdout",
          "text": [
            "2024-12-04 16:52:07,203 Sleeping for 7s. Reason: RATELIMIT\n"
          ]
        },
        {
          "output_type": "stream",
          "name": "stderr",
          "text": [
            "SUBMIT:   0%|          | 0/150 [elapsed: 00:07 remaining: ?]"
          ]
        },
        {
          "output_type": "stream",
          "name": "stdout",
          "text": [
            "2024-12-04 16:52:14,436 Sleeping for 10s. Reason: RATELIMIT\n"
          ]
        },
        {
          "output_type": "stream",
          "name": "stderr",
          "text": [
            "SUBMIT:   0%|          | 0/150 [elapsed: 00:17 remaining: ?]"
          ]
        },
        {
          "output_type": "stream",
          "name": "stdout",
          "text": [
            "2024-12-04 16:52:24,660 Sleeping for 9s. Reason: RATELIMIT\n"
          ]
        },
        {
          "output_type": "stream",
          "name": "stderr",
          "text": [
            "SUBMIT:   0%|          | 0/150 [elapsed: 00:26 remaining: ?]"
          ]
        },
        {
          "output_type": "stream",
          "name": "stdout",
          "text": [
            "2024-12-04 16:52:33,877 Sleeping for 6s. Reason: RATELIMIT\n"
          ]
        },
        {
          "output_type": "stream",
          "name": "stderr",
          "text": [
            "SUBMIT:   0%|          | 0/150 [elapsed: 00:33 remaining: ?]"
          ]
        },
        {
          "output_type": "stream",
          "name": "stdout",
          "text": [
            "2024-12-04 16:52:40,095 Sleeping for 9s. Reason: RATELIMIT\n"
          ]
        },
        {
          "output_type": "stream",
          "name": "stderr",
          "text": [
            "SUBMIT:   0%|          | 0/150 [elapsed: 00:42 remaining: ?]"
          ]
        },
        {
          "output_type": "stream",
          "name": "stdout",
          "text": [
            "2024-12-04 16:52:49,334 Sleeping for 7s. Reason: RATELIMIT\n"
          ]
        },
        {
          "output_type": "stream",
          "name": "stderr",
          "text": [
            "SUBMIT:   0%|          | 0/150 [elapsed: 00:49 remaining: ?]"
          ]
        },
        {
          "output_type": "stream",
          "name": "stdout",
          "text": [
            "2024-12-04 16:52:56,557 Sleeping for 8s. Reason: RATELIMIT\n"
          ]
        },
        {
          "output_type": "stream",
          "name": "stderr",
          "text": [
            "SUBMIT:   0%|          | 0/150 [elapsed: 00:57 remaining: ?]"
          ]
        },
        {
          "output_type": "stream",
          "name": "stdout",
          "text": [
            "2024-12-04 16:53:04,777 Sleeping for 5s. Reason: RATELIMIT\n"
          ]
        },
        {
          "output_type": "stream",
          "name": "stderr",
          "text": [
            "SUBMIT:   0%|          | 0/150 [elapsed: 01:03 remaining: ?]"
          ]
        },
        {
          "output_type": "stream",
          "name": "stdout",
          "text": [
            "2024-12-04 16:53:09,994 Sleeping for 6s. Reason: RATELIMIT\n"
          ]
        },
        {
          "output_type": "stream",
          "name": "stderr",
          "text": [
            "SUBMIT:   0%|          | 0/150 [elapsed: 01:09 remaining: ?]"
          ]
        },
        {
          "output_type": "stream",
          "name": "stdout",
          "text": [
            "2024-12-04 16:53:16,214 Sleeping for 6s. Reason: RATELIMIT\n"
          ]
        },
        {
          "output_type": "stream",
          "name": "stderr",
          "text": [
            "PENDING:   0%|          | 0/150 [elapsed: 01:15 remaining: ?]"
          ]
        },
        {
          "output_type": "stream",
          "name": "stdout",
          "text": [
            "2024-12-04 16:53:22,443 Sleeping for 8s. Reason: PENDING\n"
          ]
        },
        {
          "output_type": "stream",
          "name": "stderr",
          "text": [
            "PENDING:   0%|          | 0/150 [elapsed: 01:23 remaining: ?]"
          ]
        },
        {
          "output_type": "stream",
          "name": "stdout",
          "text": [
            "2024-12-04 16:53:30,671 Sleeping for 6s. Reason: PENDING\n"
          ]
        },
        {
          "output_type": "stream",
          "name": "stderr",
          "text": [
            "COMPLETE: 100%|██████████| 150/150 [elapsed: 01:30 remaining: 00:00]\n"
          ]
        },
        {
          "output_type": "stream",
          "name": "stdout",
          "text": [
            "2024-12-04 16:53:39,324 Padding length to 13\n",
            "2024-12-04 16:53:42,201 alphafold2_ptm_model_1_seed_000 recycle=0 pLDDT=66.7 pTM=0.0334\n",
            "2024-12-04 16:53:44,944 alphafold2_ptm_model_1_seed_000 recycle=1 pLDDT=66.1 pTM=0.0331 tol=0.817\n",
            "2024-12-04 16:53:44,945 alphafold2_ptm_model_1_seed_000 took 5.6s (1 recycles)\n",
            "2024-12-04 16:53:44,948 reranking models by 'plddt' metric\n",
            "2024-12-04 16:53:44,949 rank_001_alphafold2_ptm_model_1_seed_000 pLDDT=66.1 pTM=0.0331\n",
            "2024-12-04 16:53:45,444 Query 39/1000: 1EOJ (length 14)\n"
          ]
        },
        {
          "output_type": "stream",
          "name": "stderr",
          "text": [
            "SUBMIT:   0%|          | 0/150 [elapsed: 00:00 remaining: ?]"
          ]
        },
        {
          "output_type": "stream",
          "name": "stdout",
          "text": [
            "2024-12-04 16:53:45,671 Sleeping for 10s. Reason: RATELIMIT\n"
          ]
        },
        {
          "output_type": "stream",
          "name": "stderr",
          "text": [
            "SUBMIT:   0%|          | 0/150 [elapsed: 00:10 remaining: ?]"
          ]
        },
        {
          "output_type": "stream",
          "name": "stdout",
          "text": [
            "2024-12-04 16:53:55,890 Sleeping for 7s. Reason: RATELIMIT\n"
          ]
        },
        {
          "output_type": "stream",
          "name": "stderr",
          "text": [
            "SUBMIT:   0%|          | 0/150 [elapsed: 00:17 remaining: ?]"
          ]
        },
        {
          "output_type": "stream",
          "name": "stdout",
          "text": [
            "2024-12-04 16:54:03,135 Sleeping for 8s. Reason: RATELIMIT\n"
          ]
        },
        {
          "output_type": "stream",
          "name": "stderr",
          "text": [
            "SUBMIT:   0%|          | 0/150 [elapsed: 00:25 remaining: ?]"
          ]
        },
        {
          "output_type": "stream",
          "name": "stdout",
          "text": [
            "2024-12-04 16:54:11,376 Sleeping for 9s. Reason: RATELIMIT\n"
          ]
        },
        {
          "output_type": "stream",
          "name": "stderr",
          "text": [
            "SUBMIT:   0%|          | 0/150 [elapsed: 00:35 remaining: ?]"
          ]
        },
        {
          "output_type": "stream",
          "name": "stdout",
          "text": [
            "2024-12-04 16:54:20,592 Sleeping for 10s. Reason: RATELIMIT\n"
          ]
        },
        {
          "output_type": "stream",
          "name": "stderr",
          "text": [
            "SUBMIT:   0%|          | 0/150 [elapsed: 00:45 remaining: ?]"
          ]
        },
        {
          "output_type": "stream",
          "name": "stdout",
          "text": [
            "2024-12-04 16:54:30,815 Sleeping for 7s. Reason: RATELIMIT\n"
          ]
        },
        {
          "output_type": "stream",
          "name": "stderr",
          "text": [
            "SUBMIT:   0%|          | 0/150 [elapsed: 00:52 remaining: ?]"
          ]
        },
        {
          "output_type": "stream",
          "name": "stdout",
          "text": [
            "2024-12-04 16:54:38,044 Sleeping for 8s. Reason: RATELIMIT\n"
          ]
        },
        {
          "output_type": "stream",
          "name": "stderr",
          "text": [
            "SUBMIT:   0%|          | 0/150 [elapsed: 01:00 remaining: ?]"
          ]
        },
        {
          "output_type": "stream",
          "name": "stdout",
          "text": [
            "2024-12-04 16:54:46,261 Sleeping for 5s. Reason: RATELIMIT\n"
          ]
        },
        {
          "output_type": "stream",
          "name": "stderr",
          "text": [
            "SUBMIT:   0%|          | 0/150 [elapsed: 01:06 remaining: ?]"
          ]
        },
        {
          "output_type": "stream",
          "name": "stdout",
          "text": [
            "2024-12-04 16:54:51,482 Sleeping for 8s. Reason: RATELIMIT\n"
          ]
        },
        {
          "output_type": "stream",
          "name": "stderr",
          "text": [
            "SUBMIT:   0%|          | 0/150 [elapsed: 01:14 remaining: ?]"
          ]
        },
        {
          "output_type": "stream",
          "name": "stdout",
          "text": [
            "2024-12-04 16:54:59,702 Sleeping for 8s. Reason: RATELIMIT\n"
          ]
        },
        {
          "output_type": "stream",
          "name": "stderr",
          "text": [
            "PENDING:   0%|          | 0/150 [elapsed: 01:22 remaining: ?]"
          ]
        },
        {
          "output_type": "stream",
          "name": "stdout",
          "text": [
            "2024-12-04 16:55:07,937 Sleeping for 6s. Reason: PENDING\n"
          ]
        },
        {
          "output_type": "stream",
          "name": "stderr",
          "text": [
            "COMPLETE: 100%|██████████| 150/150 [elapsed: 01:28 remaining: 00:00]\n"
          ]
        },
        {
          "output_type": "stream",
          "name": "stdout",
          "text": [
            "2024-12-04 16:55:16,429 Padding length to 24\n",
            "2024-12-04 16:55:31,119 alphafold2_ptm_model_1_seed_000 recycle=0 pLDDT=70 pTM=0.0318\n",
            "2024-12-04 16:55:34,233 alphafold2_ptm_model_1_seed_000 recycle=1 pLDDT=68.1 pTM=0.0304 tol=2.35\n",
            "2024-12-04 16:55:34,234 alphafold2_ptm_model_1_seed_000 took 17.8s (1 recycles)\n",
            "2024-12-04 16:55:34,238 reranking models by 'plddt' metric\n",
            "2024-12-04 16:55:34,238 rank_001_alphafold2_ptm_model_1_seed_000 pLDDT=68.1 pTM=0.0304\n",
            "2024-12-04 16:55:34,726 Query 40/1000: 1I3Z (length 14)\n"
          ]
        },
        {
          "output_type": "stream",
          "name": "stderr",
          "text": [
            "SUBMIT:   0%|          | 0/150 [elapsed: 00:00 remaining: ?]"
          ]
        },
        {
          "output_type": "stream",
          "name": "stdout",
          "text": [
            "2024-12-04 16:55:34,942 Sleeping for 8s. Reason: RATELIMIT\n"
          ]
        },
        {
          "output_type": "stream",
          "name": "stderr",
          "text": [
            "SUBMIT:   0%|          | 0/150 [elapsed: 00:08 remaining: ?]"
          ]
        },
        {
          "output_type": "stream",
          "name": "stdout",
          "text": [
            "2024-12-04 16:55:43,157 Sleeping for 10s. Reason: RATELIMIT\n"
          ]
        },
        {
          "output_type": "stream",
          "name": "stderr",
          "text": [
            "SUBMIT:   0%|          | 0/150 [elapsed: 00:18 remaining: ?]"
          ]
        },
        {
          "output_type": "stream",
          "name": "stdout",
          "text": [
            "2024-12-04 16:55:53,388 Sleeping for 10s. Reason: RATELIMIT\n"
          ]
        },
        {
          "output_type": "stream",
          "name": "stderr",
          "text": [
            "SUBMIT:   0%|          | 0/150 [elapsed: 00:29 remaining: ?]"
          ]
        },
        {
          "output_type": "stream",
          "name": "stdout",
          "text": [
            "2024-12-04 16:56:03,787 Sleeping for 8s. Reason: RATELIMIT\n"
          ]
        },
        {
          "output_type": "stream",
          "name": "stderr",
          "text": [
            "SUBMIT:   0%|          | 0/150 [elapsed: 00:37 remaining: ?]"
          ]
        },
        {
          "output_type": "stream",
          "name": "stdout",
          "text": [
            "2024-12-04 16:56:12,004 Sleeping for 10s. Reason: RATELIMIT\n"
          ]
        },
        {
          "output_type": "stream",
          "name": "stderr",
          "text": [
            "SUBMIT:   0%|          | 0/150 [elapsed: 00:47 remaining: ?]"
          ]
        },
        {
          "output_type": "stream",
          "name": "stdout",
          "text": [
            "2024-12-04 16:56:22,220 Sleeping for 9s. Reason: RATELIMIT\n"
          ]
        },
        {
          "output_type": "stream",
          "name": "stderr",
          "text": [
            "SUBMIT:   0%|          | 0/150 [elapsed: 00:56 remaining: ?]"
          ]
        },
        {
          "output_type": "stream",
          "name": "stdout",
          "text": [
            "2024-12-04 16:56:31,454 Sleeping for 6s. Reason: RATELIMIT\n"
          ]
        },
        {
          "output_type": "stream",
          "name": "stderr",
          "text": [
            "SUBMIT:   0%|          | 0/150 [elapsed: 01:02 remaining: ?]"
          ]
        },
        {
          "output_type": "stream",
          "name": "stdout",
          "text": [
            "2024-12-04 16:56:37,670 Sleeping for 7s. Reason: RATELIMIT\n"
          ]
        },
        {
          "output_type": "stream",
          "name": "stderr",
          "text": [
            "PENDING:   0%|          | 0/150 [elapsed: 01:10 remaining: ?]"
          ]
        },
        {
          "output_type": "stream",
          "name": "stdout",
          "text": [
            "2024-12-04 16:56:44,908 Sleeping for 10s. Reason: PENDING\n"
          ]
        },
        {
          "output_type": "stream",
          "name": "stderr",
          "text": [
            "COMPLETE: 100%|██████████| 150/150 [elapsed: 01:20 remaining: 00:00]\n"
          ]
        },
        {
          "output_type": "stream",
          "name": "stdout",
          "text": [
            "2024-12-04 16:56:56,920 Padding length to 24\n",
            "2024-12-04 16:57:00,173 alphafold2_ptm_model_1_seed_000 recycle=0 pLDDT=74.5 pTM=0.0394\n",
            "2024-12-04 16:57:03,287 alphafold2_ptm_model_1_seed_000 recycle=1 pLDDT=74.4 pTM=0.04 tol=0.218\n",
            "2024-12-04 16:57:03,288 alphafold2_ptm_model_1_seed_000 took 6.4s (1 recycles)\n",
            "2024-12-04 16:57:03,294 reranking models by 'plddt' metric\n",
            "2024-12-04 16:57:03,295 rank_001_alphafold2_ptm_model_1_seed_000 pLDDT=74.4 pTM=0.04\n",
            "2024-12-04 16:57:03,887 Query 41/1000: 1EOL (length 15)\n"
          ]
        },
        {
          "output_type": "stream",
          "name": "stderr",
          "text": [
            "SUBMIT:   0%|          | 0/150 [elapsed: 00:00 remaining: ?]"
          ]
        },
        {
          "output_type": "stream",
          "name": "stdout",
          "text": [
            "2024-12-04 16:57:04,104 Sleeping for 9s. Reason: RATELIMIT\n"
          ]
        },
        {
          "output_type": "stream",
          "name": "stderr",
          "text": [
            "SUBMIT:   0%|          | 0/150 [elapsed: 00:09 remaining: ?]"
          ]
        },
        {
          "output_type": "stream",
          "name": "stdout",
          "text": [
            "2024-12-04 16:57:13,334 Sleeping for 5s. Reason: RATELIMIT\n"
          ]
        },
        {
          "output_type": "stream",
          "name": "stderr",
          "text": [
            "SUBMIT:   0%|          | 0/150 [elapsed: 00:14 remaining: ?]"
          ]
        },
        {
          "output_type": "stream",
          "name": "stdout",
          "text": [
            "2024-12-04 16:57:18,549 Sleeping for 9s. Reason: RATELIMIT\n"
          ]
        },
        {
          "output_type": "stream",
          "name": "stderr",
          "text": [
            "SUBMIT:   0%|          | 0/150 [elapsed: 00:23 remaining: ?]"
          ]
        },
        {
          "output_type": "stream",
          "name": "stdout",
          "text": [
            "2024-12-04 16:57:27,773 Sleeping for 6s. Reason: RATELIMIT\n"
          ]
        },
        {
          "output_type": "stream",
          "name": "stderr",
          "text": [
            "SUBMIT:   0%|          | 0/150 [elapsed: 00:30 remaining: ?]"
          ]
        },
        {
          "output_type": "stream",
          "name": "stdout",
          "text": [
            "2024-12-04 16:57:33,989 Sleeping for 8s. Reason: RATELIMIT\n"
          ]
        },
        {
          "output_type": "stream",
          "name": "stderr",
          "text": [
            "SUBMIT:   0%|          | 0/150 [elapsed: 00:38 remaining: ?]"
          ]
        },
        {
          "output_type": "stream",
          "name": "stdout",
          "text": [
            "2024-12-04 16:57:42,205 Sleeping for 8s. Reason: RATELIMIT\n"
          ]
        },
        {
          "output_type": "stream",
          "name": "stderr",
          "text": [
            "SUBMIT:   0%|          | 0/150 [elapsed: 00:46 remaining: ?]"
          ]
        },
        {
          "output_type": "stream",
          "name": "stdout",
          "text": [
            "2024-12-04 16:57:50,439 Sleeping for 10s. Reason: RATELIMIT\n"
          ]
        },
        {
          "output_type": "stream",
          "name": "stderr",
          "text": [
            "SUBMIT:   0%|          | 0/150 [elapsed: 00:56 remaining: ?]"
          ]
        },
        {
          "output_type": "stream",
          "name": "stdout",
          "text": [
            "2024-12-04 16:58:00,662 Sleeping for 8s. Reason: RATELIMIT\n"
          ]
        },
        {
          "output_type": "stream",
          "name": "stderr",
          "text": [
            "SUBMIT:   0%|          | 0/150 [elapsed: 01:04 remaining: ?]"
          ]
        },
        {
          "output_type": "stream",
          "name": "stdout",
          "text": [
            "2024-12-04 16:58:08,879 Sleeping for 7s. Reason: RATELIMIT\n"
          ]
        },
        {
          "output_type": "stream",
          "name": "stderr",
          "text": [
            "SUBMIT:   0%|          | 0/150 [elapsed: 01:12 remaining: ?]"
          ]
        },
        {
          "output_type": "stream",
          "name": "stdout",
          "text": [
            "2024-12-04 16:58:16,104 Sleeping for 7s. Reason: RATELIMIT\n"
          ]
        },
        {
          "output_type": "stream",
          "name": "stderr",
          "text": [
            "PENDING:   0%|          | 0/150 [elapsed: 01:19 remaining: ?]"
          ]
        },
        {
          "output_type": "stream",
          "name": "stdout",
          "text": [
            "2024-12-04 16:58:23,347 Sleeping for 6s. Reason: PENDING\n"
          ]
        },
        {
          "output_type": "stream",
          "name": "stderr",
          "text": [
            "COMPLETE: 100%|██████████| 150/150 [elapsed: 01:25 remaining: 00:00]\n"
          ]
        },
        {
          "output_type": "stream",
          "name": "stdout",
          "text": [
            "2024-12-04 16:58:31,332 Padding length to 24\n",
            "2024-12-04 16:58:34,601 alphafold2_ptm_model_1_seed_000 recycle=0 pLDDT=70.8 pTM=0.031\n",
            "2024-12-04 16:58:37,717 alphafold2_ptm_model_1_seed_000 recycle=1 pLDDT=67.5 pTM=0.03 tol=0.944\n",
            "2024-12-04 16:58:37,718 alphafold2_ptm_model_1_seed_000 took 6.4s (1 recycles)\n",
            "2024-12-04 16:58:37,721 reranking models by 'plddt' metric\n",
            "2024-12-04 16:58:37,722 rank_001_alphafold2_ptm_model_1_seed_000 pLDDT=67.5 pTM=0.03\n",
            "2024-12-04 16:58:38,875 Query 42/1000: 1EMU (length 16)\n"
          ]
        },
        {
          "output_type": "stream",
          "name": "stderr",
          "text": [
            "SUBMIT:   0%|          | 0/150 [elapsed: 00:00 remaining: ?]"
          ]
        },
        {
          "output_type": "stream",
          "name": "stdout",
          "text": [
            "2024-12-04 16:58:39,087 Sleeping for 8s. Reason: RATELIMIT\n"
          ]
        },
        {
          "output_type": "stream",
          "name": "stderr",
          "text": [
            "SUBMIT:   0%|          | 0/150 [elapsed: 00:08 remaining: ?]"
          ]
        },
        {
          "output_type": "stream",
          "name": "stdout",
          "text": [
            "2024-12-04 16:58:47,304 Sleeping for 6s. Reason: RATELIMIT\n"
          ]
        },
        {
          "output_type": "stream",
          "name": "stderr",
          "text": [
            "SUBMIT:   0%|          | 0/150 [elapsed: 00:14 remaining: ?]"
          ]
        },
        {
          "output_type": "stream",
          "name": "stdout",
          "text": [
            "2024-12-04 16:58:53,534 Sleeping for 6s. Reason: RATELIMIT\n"
          ]
        },
        {
          "output_type": "stream",
          "name": "stderr",
          "text": [
            "SUBMIT:   0%|          | 0/150 [elapsed: 00:20 remaining: ?]"
          ]
        },
        {
          "output_type": "stream",
          "name": "stdout",
          "text": [
            "2024-12-04 16:58:59,747 Sleeping for 8s. Reason: RATELIMIT\n"
          ]
        }
      ]
    },
    {
      "cell_type": "markdown",
      "metadata": {
        "id": "UGUBLzB3C6WN"
      },
      "source": [
        "# Instructions <a name=\"Instructions\"></a>\n",
        "**Quick start**\n",
        "1. Upload your single fasta files to a folder in your Google Drive\n",
        "2. Define path to the fold containing the fasta files (`input_dir`) define an outdir (`output_dir`)\n",
        "3. Press \"Runtime\" -> \"Run all\".\n",
        "\n",
        "**Result zip file contents**\n",
        "\n",
        "At the end of the job a all results `jobname.result.zip` will be uploaded to your (`output_dir`) Google Drive. Each zip contains one protein.\n",
        "\n",
        "1. PDB formatted structures sorted by avg. pIDDT. (unrelaxed and relaxed if `use_amber` is enabled).\n",
        "2. Plots of the model quality.\n",
        "3. Plots of the MSA coverage.\n",
        "4. Parameter log file.\n",
        "5. A3M formatted input MSA.\n",
        "6. BibTeX file with citations for all used tools and databases.\n",
        "\n",
        "\n",
        "**Troubleshooting**\n",
        "* Check that the runtime type is set to GPU at \"Runtime\" -> \"Change runtime type\".\n",
        "* Try to restart the session \"Runtime\" -> \"Factory reset runtime\".\n",
        "* Check your input sequence.\n",
        "\n",
        "**Known issues**\n",
        "* Google Colab assigns different types of GPUs with varying amount of memory. Some might not have enough memory to predict the structure for a long sequence.\n",
        "* Google Colab assigns different types of GPUs with varying amount of memory. Some might not have enough memory to predict the structure for a long sequence.\n",
        "* Your browser can block the pop-up for downloading the result file. You can choose the `save_to_google_drive` option to upload to Google Drive instead or manually download the result file: Click on the little folder icon to the left, navigate to file: `jobname.result.zip`, right-click and select \\\"Download\\\" (see [screenshot](https://pbs.twimg.com/media/E6wRW2lWUAEOuoe?format=jpg&name=small)).\n",
        "\n",
        "**Limitations**\n",
        "* Computing resources: Our MMseqs2 API can handle ~20-50k requests per day.\n",
        "* MSAs: MMseqs2 is very precise and sensitive but might find less hits compared to HHblits/HMMer searched against BFD or Mgnify.\n",
        "* We recommend to additionally use the full [AlphaFold2 pipeline](https://github.com/deepmind/alphafold).\n",
        "\n",
        "**Description of the plots**\n",
        "*   **Number of sequences per position** - We want to see at least 30 sequences per position, for best performance, ideally 100 sequences.\n",
        "*   **Predicted lDDT per position** - model confidence (out of 100) at each position. The higher the better.\n",
        "*   **Predicted Alignment Error** - For homooligomers, this could be a useful metric to assess how confident the model is about the interface. The lower the better.\n",
        "\n",
        "**Bugs**\n",
        "- If you encounter any bugs, please report the issue to https://github.com/sokrypton/ColabFold/issues\n",
        "\n",
        "**License**\n",
        "\n",
        "The source code of ColabFold is licensed under [MIT](https://raw.githubusercontent.com/sokrypton/ColabFold/main/LICENSE). Additionally, this notebook uses AlphaFold2 source code and its parameters licensed under [Apache 2.0](https://raw.githubusercontent.com/deepmind/alphafold/main/LICENSE) and  [CC BY 4.0](https://creativecommons.org/licenses/by-sa/4.0/) respectively. Read more about the AlphaFold license [here](https://github.com/deepmind/alphafold).\n",
        "\n",
        "**Acknowledgments**\n",
        "- We thank the AlphaFold team for developing an excellent model and open sourcing the software.\n",
        "\n",
        "- Do-Yoon Kim for creating the ColabFold logo.\n",
        "\n",
        "- A colab by Sergey Ovchinnikov ([@sokrypton](https://twitter.com/sokrypton)), Milot Mirdita ([@milot_mirdita](https://twitter.com/milot_mirdita)) and Martin Steinegger ([@thesteinegger](https://twitter.com/thesteinegger)).\n"
      ]
    }
  ]
}